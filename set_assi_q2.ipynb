{
  "nbformat": 4,
  "nbformat_minor": 0,
  "metadata": {
    "colab": {
      "name": "set assi q2.ipynb",
      "provenance": [],
      "collapsed_sections": []
    },
    "kernelspec": {
      "name": "python3",
      "display_name": "Python 3"
    },
    "language_info": {
      "name": "python"
    }
  },
  "cells": [
    {
      "cell_type": "markdown",
      "source": [
        "## SET Assignment 2: Linear Regression\n",
        "\n",
        "#### **Name: Sanket Sonawane**\n",
        "#### **PRN: 2019BTECS00048**"
      ],
      "metadata": {
        "id": "LJYqpoMzeOdq"
      }
    },
    {
      "cell_type": "code",
      "execution_count": 38,
      "metadata": {
        "id": "WLlm05XEVJsa"
      },
      "outputs": [],
      "source": [
        "# importing libraries\n",
        "import pandas as pd\n",
        "import numpy as np\n",
        "import matplotlib.pyplot as plt"
      ]
    },
    {
      "cell_type": "code",
      "source": [
        "# dataset\n",
        "dataset = pd.read_csv('/content/data_akbilgic.csv')\n",
        "\n",
        "dataset"
      ],
      "metadata": {
        "colab": {
          "base_uri": "https://localhost:8080/",
          "height": 424
        },
        "id": "vQFAUheVWGxd",
        "outputId": "c1d9138f-c518-45ae-f8db-79dcab4e1366"
      },
      "execution_count": 47,
      "outputs": [
        {
          "output_type": "execute_result",
          "data": {
            "text/html": [
              "\n",
              "  <div id=\"df-c001b2e2-c1dc-4b4e-b1f5-6f8fbee28965\">\n",
              "    <div class=\"colab-df-container\">\n",
              "      <div>\n",
              "<style scoped>\n",
              "    .dataframe tbody tr th:only-of-type {\n",
              "        vertical-align: middle;\n",
              "    }\n",
              "\n",
              "    .dataframe tbody tr th {\n",
              "        vertical-align: top;\n",
              "    }\n",
              "\n",
              "    .dataframe thead th {\n",
              "        text-align: right;\n",
              "    }\n",
              "</style>\n",
              "<table border=\"1\" class=\"dataframe\">\n",
              "  <thead>\n",
              "    <tr style=\"text-align: right;\">\n",
              "      <th></th>\n",
              "      <th>ISE1</th>\n",
              "      <th>ISE2</th>\n",
              "      <th>SP</th>\n",
              "      <th>DAX</th>\n",
              "      <th>FTSE</th>\n",
              "      <th>NIKKEI</th>\n",
              "      <th>BOVESPA</th>\n",
              "      <th>EU</th>\n",
              "      <th>EM</th>\n",
              "    </tr>\n",
              "  </thead>\n",
              "  <tbody>\n",
              "    <tr>\n",
              "      <th>0</th>\n",
              "      <td>0.035754</td>\n",
              "      <td>0.038376</td>\n",
              "      <td>-0.004679</td>\n",
              "      <td>0.002193</td>\n",
              "      <td>0.003894</td>\n",
              "      <td>0.000000</td>\n",
              "      <td>0.031190</td>\n",
              "      <td>0.012698</td>\n",
              "      <td>0.028524</td>\n",
              "    </tr>\n",
              "    <tr>\n",
              "      <th>1</th>\n",
              "      <td>0.025426</td>\n",
              "      <td>0.031813</td>\n",
              "      <td>0.007787</td>\n",
              "      <td>0.008455</td>\n",
              "      <td>0.012866</td>\n",
              "      <td>0.004162</td>\n",
              "      <td>0.018920</td>\n",
              "      <td>0.011341</td>\n",
              "      <td>0.008773</td>\n",
              "    </tr>\n",
              "    <tr>\n",
              "      <th>2</th>\n",
              "      <td>-0.028862</td>\n",
              "      <td>-0.026353</td>\n",
              "      <td>-0.030469</td>\n",
              "      <td>-0.017833</td>\n",
              "      <td>-0.028735</td>\n",
              "      <td>0.017293</td>\n",
              "      <td>-0.035899</td>\n",
              "      <td>-0.017073</td>\n",
              "      <td>-0.020015</td>\n",
              "    </tr>\n",
              "    <tr>\n",
              "      <th>3</th>\n",
              "      <td>-0.062208</td>\n",
              "      <td>-0.084716</td>\n",
              "      <td>0.003391</td>\n",
              "      <td>-0.011726</td>\n",
              "      <td>-0.000466</td>\n",
              "      <td>-0.040061</td>\n",
              "      <td>0.028283</td>\n",
              "      <td>-0.005561</td>\n",
              "      <td>-0.019424</td>\n",
              "    </tr>\n",
              "    <tr>\n",
              "      <th>4</th>\n",
              "      <td>0.009860</td>\n",
              "      <td>0.009658</td>\n",
              "      <td>-0.021533</td>\n",
              "      <td>-0.019873</td>\n",
              "      <td>-0.012710</td>\n",
              "      <td>-0.004474</td>\n",
              "      <td>-0.009764</td>\n",
              "      <td>-0.010989</td>\n",
              "      <td>-0.007802</td>\n",
              "    </tr>\n",
              "    <tr>\n",
              "      <th>...</th>\n",
              "      <td>...</td>\n",
              "      <td>...</td>\n",
              "      <td>...</td>\n",
              "      <td>...</td>\n",
              "      <td>...</td>\n",
              "      <td>...</td>\n",
              "      <td>...</td>\n",
              "      <td>...</td>\n",
              "      <td>...</td>\n",
              "    </tr>\n",
              "    <tr>\n",
              "      <th>531</th>\n",
              "      <td>0.008599</td>\n",
              "      <td>0.013400</td>\n",
              "      <td>0.006238</td>\n",
              "      <td>0.001925</td>\n",
              "      <td>0.007952</td>\n",
              "      <td>0.005717</td>\n",
              "      <td>0.018371</td>\n",
              "      <td>0.006975</td>\n",
              "      <td>0.003039</td>\n",
              "    </tr>\n",
              "    <tr>\n",
              "      <th>532</th>\n",
              "      <td>0.009310</td>\n",
              "      <td>0.015977</td>\n",
              "      <td>0.003071</td>\n",
              "      <td>-0.001186</td>\n",
              "      <td>0.000345</td>\n",
              "      <td>0.002620</td>\n",
              "      <td>0.001686</td>\n",
              "      <td>-0.000581</td>\n",
              "      <td>0.001039</td>\n",
              "    </tr>\n",
              "    <tr>\n",
              "      <th>533</th>\n",
              "      <td>0.000191</td>\n",
              "      <td>-0.001653</td>\n",
              "      <td>0.001923</td>\n",
              "      <td>0.002872</td>\n",
              "      <td>-0.000723</td>\n",
              "      <td>0.000568</td>\n",
              "      <td>0.005628</td>\n",
              "      <td>0.000572</td>\n",
              "      <td>0.006938</td>\n",
              "    </tr>\n",
              "    <tr>\n",
              "      <th>534</th>\n",
              "      <td>-0.013069</td>\n",
              "      <td>-0.013706</td>\n",
              "      <td>-0.020742</td>\n",
              "      <td>-0.014239</td>\n",
              "      <td>-0.011275</td>\n",
              "      <td>0.001358</td>\n",
              "      <td>-0.011942</td>\n",
              "      <td>-0.012615</td>\n",
              "      <td>-0.000958</td>\n",
              "    </tr>\n",
              "    <tr>\n",
              "      <th>535</th>\n",
              "      <td>-0.007246</td>\n",
              "      <td>-0.019442</td>\n",
              "      <td>0.000000</td>\n",
              "      <td>-0.000473</td>\n",
              "      <td>-0.002997</td>\n",
              "      <td>-0.017920</td>\n",
              "      <td>-0.012252</td>\n",
              "      <td>-0.005465</td>\n",
              "      <td>-0.014297</td>\n",
              "    </tr>\n",
              "  </tbody>\n",
              "</table>\n",
              "<p>536 rows × 9 columns</p>\n",
              "</div>\n",
              "      <button class=\"colab-df-convert\" onclick=\"convertToInteractive('df-c001b2e2-c1dc-4b4e-b1f5-6f8fbee28965')\"\n",
              "              title=\"Convert this dataframe to an interactive table.\"\n",
              "              style=\"display:none;\">\n",
              "        \n",
              "  <svg xmlns=\"http://www.w3.org/2000/svg\" height=\"24px\"viewBox=\"0 0 24 24\"\n",
              "       width=\"24px\">\n",
              "    <path d=\"M0 0h24v24H0V0z\" fill=\"none\"/>\n",
              "    <path d=\"M18.56 5.44l.94 2.06.94-2.06 2.06-.94-2.06-.94-.94-2.06-.94 2.06-2.06.94zm-11 1L8.5 8.5l.94-2.06 2.06-.94-2.06-.94L8.5 2.5l-.94 2.06-2.06.94zm10 10l.94 2.06.94-2.06 2.06-.94-2.06-.94-.94-2.06-.94 2.06-2.06.94z\"/><path d=\"M17.41 7.96l-1.37-1.37c-.4-.4-.92-.59-1.43-.59-.52 0-1.04.2-1.43.59L10.3 9.45l-7.72 7.72c-.78.78-.78 2.05 0 2.83L4 21.41c.39.39.9.59 1.41.59.51 0 1.02-.2 1.41-.59l7.78-7.78 2.81-2.81c.8-.78.8-2.07 0-2.86zM5.41 20L4 18.59l7.72-7.72 1.47 1.35L5.41 20z\"/>\n",
              "  </svg>\n",
              "      </button>\n",
              "      \n",
              "  <style>\n",
              "    .colab-df-container {\n",
              "      display:flex;\n",
              "      flex-wrap:wrap;\n",
              "      gap: 12px;\n",
              "    }\n",
              "\n",
              "    .colab-df-convert {\n",
              "      background-color: #E8F0FE;\n",
              "      border: none;\n",
              "      border-radius: 50%;\n",
              "      cursor: pointer;\n",
              "      display: none;\n",
              "      fill: #1967D2;\n",
              "      height: 32px;\n",
              "      padding: 0 0 0 0;\n",
              "      width: 32px;\n",
              "    }\n",
              "\n",
              "    .colab-df-convert:hover {\n",
              "      background-color: #E2EBFA;\n",
              "      box-shadow: 0px 1px 2px rgba(60, 64, 67, 0.3), 0px 1px 3px 1px rgba(60, 64, 67, 0.15);\n",
              "      fill: #174EA6;\n",
              "    }\n",
              "\n",
              "    [theme=dark] .colab-df-convert {\n",
              "      background-color: #3B4455;\n",
              "      fill: #D2E3FC;\n",
              "    }\n",
              "\n",
              "    [theme=dark] .colab-df-convert:hover {\n",
              "      background-color: #434B5C;\n",
              "      box-shadow: 0px 1px 3px 1px rgba(0, 0, 0, 0.15);\n",
              "      filter: drop-shadow(0px 1px 2px rgba(0, 0, 0, 0.3));\n",
              "      fill: #FFFFFF;\n",
              "    }\n",
              "  </style>\n",
              "\n",
              "      <script>\n",
              "        const buttonEl =\n",
              "          document.querySelector('#df-c001b2e2-c1dc-4b4e-b1f5-6f8fbee28965 button.colab-df-convert');\n",
              "        buttonEl.style.display =\n",
              "          google.colab.kernel.accessAllowed ? 'block' : 'none';\n",
              "\n",
              "        async function convertToInteractive(key) {\n",
              "          const element = document.querySelector('#df-c001b2e2-c1dc-4b4e-b1f5-6f8fbee28965');\n",
              "          const dataTable =\n",
              "            await google.colab.kernel.invokeFunction('convertToInteractive',\n",
              "                                                     [key], {});\n",
              "          if (!dataTable) return;\n",
              "\n",
              "          const docLinkHtml = 'Like what you see? Visit the ' +\n",
              "            '<a target=\"_blank\" href=https://colab.research.google.com/notebooks/data_table.ipynb>data table notebook</a>'\n",
              "            + ' to learn more about interactive tables.';\n",
              "          element.innerHTML = '';\n",
              "          dataTable['output_type'] = 'display_data';\n",
              "          await google.colab.output.renderOutput(dataTable, element);\n",
              "          const docLink = document.createElement('div');\n",
              "          docLink.innerHTML = docLinkHtml;\n",
              "          element.appendChild(docLink);\n",
              "        }\n",
              "      </script>\n",
              "    </div>\n",
              "  </div>\n",
              "  "
            ],
            "text/plain": [
              "         ISE1      ISE2        SP  ...   BOVESPA        EU        EM\n",
              "0    0.035754  0.038376 -0.004679  ...  0.031190  0.012698  0.028524\n",
              "1    0.025426  0.031813  0.007787  ...  0.018920  0.011341  0.008773\n",
              "2   -0.028862 -0.026353 -0.030469  ... -0.035899 -0.017073 -0.020015\n",
              "3   -0.062208 -0.084716  0.003391  ...  0.028283 -0.005561 -0.019424\n",
              "4    0.009860  0.009658 -0.021533  ... -0.009764 -0.010989 -0.007802\n",
              "..        ...       ...       ...  ...       ...       ...       ...\n",
              "531  0.008599  0.013400  0.006238  ...  0.018371  0.006975  0.003039\n",
              "532  0.009310  0.015977  0.003071  ...  0.001686 -0.000581  0.001039\n",
              "533  0.000191 -0.001653  0.001923  ...  0.005628  0.000572  0.006938\n",
              "534 -0.013069 -0.013706 -0.020742  ... -0.011942 -0.012615 -0.000958\n",
              "535 -0.007246 -0.019442  0.000000  ... -0.012252 -0.005465 -0.014297\n",
              "\n",
              "[536 rows x 9 columns]"
            ]
          },
          "metadata": {},
          "execution_count": 47
        }
      ]
    },
    {
      "cell_type": "code",
      "source": [
        "# dependent and independent varaibles\n",
        "X = dataset.iloc[:, :-1].values\n",
        "y = dataset.iloc[:, -1].values\n"
      ],
      "metadata": {
        "id": "xldAU0a7WQZw"
      },
      "execution_count": 51,
      "outputs": []
    },
    {
      "cell_type": "code",
      "source": [
        "# test and training split of dataset\n",
        "from sklearn.model_selection import train_test_split\n",
        "X_train, X_test, y_train, y_test = train_test_split(X, y, test_size = 0.25, random_state = 0)"
      ],
      "metadata": {
        "id": "R58LoYG2Ygmu"
      },
      "execution_count": 52,
      "outputs": []
    },
    {
      "cell_type": "code",
      "source": [
        "# feature scaling\n",
        "from sklearn.preprocessing import StandardScaler\n",
        "sc = StandardScaler()\n",
        "X_train = sc.fit_transform(X_train)\n",
        "X_test = sc.transform(X_test)"
      ],
      "metadata": {
        "id": "5hdvaLQiZH6l"
      },
      "execution_count": 53,
      "outputs": []
    },
    {
      "cell_type": "code",
      "source": [
        "# training linear regression model\n",
        "from sklearn.linear_model import LinearRegression\n",
        "\n",
        "lr = LinearRegression()\n",
        "\n",
        "lr.fit(X_train, y_train)"
      ],
      "metadata": {
        "colab": {
          "base_uri": "https://localhost:8080/"
        },
        "id": "HFPFcTLVZK8w",
        "outputId": "06ff2407-f89b-4a06-ea1c-8f2f1f0e1fd0"
      },
      "execution_count": 54,
      "outputs": [
        {
          "output_type": "execute_result",
          "data": {
            "text/plain": [
              "LinearRegression()"
            ]
          },
          "metadata": {},
          "execution_count": 54
        }
      ]
    },
    {
      "cell_type": "code",
      "source": [
        "# predicting x_test\n",
        "y_predict = lr.predict(X_test)\n",
        "\n",
        "for i in range(0, len(y_predict)):\n",
        "  print(y_test[i], y_predict[i])"
      ],
      "metadata": {
        "colab": {
          "base_uri": "https://localhost:8080/"
        },
        "id": "t_sS1-IcaeVF",
        "outputId": "7b2e0906-b617-4e9e-ee1e-70f8919c7d7d"
      },
      "execution_count": 55,
      "outputs": [
        {
          "output_type": "stream",
          "name": "stdout",
          "text": [
            "0.010025827 0.008450969925467742\n",
            "-0.002221212 -0.0019932510317562284\n",
            "4.48e-05 -0.002021430214650534\n",
            "-0.009662437 -0.005780782740010732\n",
            "0.001038585 0.004009087243046477\n",
            "-0.007353045 -0.006094689101276183\n",
            "-0.014759632 -0.0026004850935135732\n",
            "0.00432518 0.0019306981733550393\n",
            "-0.00362746 -0.0006676907113220055\n",
            "0.016065598 0.011003604586339751\n",
            "0.005947344 0.00575496789602133\n",
            "0.007414113 -0.002767041635714873\n",
            "0.005590222 0.006690284330512757\n",
            "0.015463595 0.01516204128653622\n",
            "-0.005148888 -0.0029307156333723996\n",
            "0.00113875 -0.004720056440605539\n",
            "0.005049774 0.0033994179532047027\n",
            "0.007745793 0.008116502869208383\n",
            "0.015586943 0.016772489994902447\n",
            "0.022915147 0.02379929501818582\n",
            "0.016398626 0.014916359356479059\n",
            "-0.002498259 0.0012108411776576996\n",
            "0.027435226 0.023016057663161296\n",
            "0.007314074 0.007228491762094113\n",
            "0.018558259 0.014149591108279026\n",
            "-0.021032886 -0.021476249039909225\n",
            "-0.000190542 0.0037321453075173172\n",
            "2.82e-05 0.0016175597297459553\n",
            "-0.005558364 -0.00657209043733784\n",
            "0.010319685 0.018507833194071018\n",
            "-0.003233047 -0.010997635776689363\n",
            "-0.006116571 -0.012821040946971455\n",
            "0.003023668 0.011039546441480358\n",
            "-0.013554059 -0.012230732953410185\n",
            "0.022104103 0.020607137853684232\n",
            "0.029978301 0.019258207622441126\n",
            "-0.00670868 -0.00655718605285311\n",
            "0.009279397 0.006126110877193992\n",
            "0.000340369 0.0012717280570200913\n",
            "0.002606371 0.00035229182481335154\n",
            "-0.003350004 0.0022019855382977996\n",
            "0.00511012 0.0020995671081816755\n",
            "0.004142079 0.0025633831978614844\n",
            "-0.006473657 -0.004196168852733826\n",
            "-0.014859632 -0.015417128736961794\n",
            "-0.001148903 -0.0027173762520956955\n",
            "0.003930882 0.009849290091965255\n",
            "-0.010536916 -0.004442039624561179\n",
            "-0.014724997 -0.024194636121835346\n",
            "0.013275554 0.013025086038777684\n",
            "0.007861466 0.002902545881559823\n",
            "0.000864074 -0.003542710738434057\n",
            "0.024909954 0.02669027456264514\n",
            "0.00351221 -0.000679257689897583\n",
            "0.02156199 0.017316776711423794\n",
            "0.00213008 0.004361243569119496\n",
            "0.006099364 0.008524217459297979\n",
            "0.012718686 0.0149169048081165\n",
            "-0.005565862 -0.011956035206614117\n",
            "-0.006962182 -0.0075069907119080775\n",
            "0.014404659 0.017295911137081933\n",
            "0.004452219 0.0026011875098372046\n",
            "-0.010673606 -0.010720038429817353\n",
            "0.003323194 0.008077380328921387\n",
            "0.006176262 0.004619773878765963\n",
            "0.011737376 0.006724697138441812\n",
            "-0.000118508 -0.004096135696242412\n",
            "-0.009605113 -0.012837817614227781\n",
            "-0.008357848 -0.01813355005049206\n",
            "0.00877387 0.01041884470498062\n",
            "-0.001644294 -0.0019066580700143809\n",
            "-0.006566375 -0.011030120824599967\n",
            "-0.003191672 0.0030092922873609608\n",
            "0.004165555 0.002854988686159592\n",
            "-0.002310732 -0.0020102112524400923\n",
            "0.005018525 -0.00011074567007051501\n",
            "-0.011049522 -0.020365823594987092\n",
            "0.025317649 0.039903380142315724\n",
            "0.00685449 0.016496681859142458\n",
            "-0.003161803 -0.001450342617810435\n",
            "0.000476055 -0.0033768449745321637\n",
            "-0.014855548 -0.01171168266688726\n",
            "0.001991938 0.010626355842704282\n",
            "0.001085768 -0.005640752066543544\n",
            "0.002118634 0.0023123177554590247\n",
            "0.004164699 -0.0003413476395384557\n",
            "0.008772644 0.013169943333982005\n",
            "0.002134784 0.001275169733126664\n",
            "-0.005092242 0.0028987615050062665\n",
            "-0.013401351 -0.0016812264949881356\n",
            "-0.006630541 -0.004374254709939743\n",
            "0.007505103 0.011311875838824112\n",
            "-0.003679224 -0.002520433635250719\n",
            "-0.007276574 -0.0077945504482966315\n",
            "-0.002285129 0.00045683801586224836\n",
            "0.011753411 0.0062151092596068255\n",
            "0.010577309 0.004437334641952624\n",
            "0.000917437 -0.0022004880168119013\n",
            "0.01345158 0.010905644818856959\n",
            "-0.001537399 0.0035633971007335554\n",
            "0.002949178 -0.0005847146587048902\n",
            "-0.000207937 0.0009723428685051807\n",
            "0.003332611 0.007755415865734851\n",
            "0.009468899 0.010160462740143164\n",
            "-0.004366385 -0.00019750072130238737\n",
            "-0.013384167 -0.006667718693052686\n",
            "0.003481782 0.008950794025811068\n",
            "-0.004029004 -0.009443996372970899\n",
            "-0.007652558 -0.002856706794607789\n",
            "-0.006025 0.002275818473094387\n",
            "0.00839901 0.004154340195197145\n",
            "-0.02977241 -0.020189040118149072\n",
            "-0.014676581 -0.0072760147316730615\n",
            "0.004191931 0.005485265547231294\n",
            "0.00618863 0.009320157740638569\n",
            "-0.003641465 -0.0029790245572280626\n",
            "-0.021109333 -0.017224154300887577\n",
            "0.004925464 0.00022873602894912825\n",
            "-0.004085144 0.0007691266765312379\n",
            "-0.001744163 0.0019974652662345105\n",
            "-0.008235251 -0.002700937336527692\n",
            "0.004129933 0.0017211857538932031\n",
            "0.006657004 0.00667196852828164\n",
            "0.004725268 0.0047999776930712145\n",
            "0.023092409 0.017849388728059197\n",
            "0.006937873 0.0016327161954348705\n",
            "-0.009452694 -0.008745960475025558\n",
            "0.008880124 0.007342348636706615\n",
            "-0.008676646 -0.021560525206038156\n",
            "0.000986979 0.0047852782209412605\n",
            "-0.000892236 -0.0010146555787240719\n",
            "0.002304461 0.0030238696741472153\n",
            "-0.003184935 -0.005563975545926588\n",
            "0.001154004 0.0072757138821581135\n"
          ]
        }
      ]
    },
    {
      "cell_type": "code",
      "source": [
        "# r2 score, mse, rmse\n",
        "from sklearn.metrics import r2_score\n",
        "from sklearn.metrics import mean_squared_error\n",
        "# predicting the accuracy score\n",
        "score=r2_score(y_test,y_predict)\n",
        "print(\"r2 socre is \", score)\n",
        "print(\"mean_sqrd_error is \",mean_squared_error(y_test,y_predict))\n",
        "print(\"root_mean_squared error of is \",np.sqrt(mean_squared_error(y_test,y_predict)))"
      ],
      "metadata": {
        "colab": {
          "base_uri": "https://localhost:8080/"
        },
        "id": "rX1oju7caqVo",
        "outputId": "5f73027e-3b92-4632-a585-29d1d688fea4"
      },
      "execution_count": 56,
      "outputs": [
        {
          "output_type": "stream",
          "name": "stdout",
          "text": [
            "r2 socre is  0.7682224581057615\n",
            "mean_sqrd_error is  2.372077071667475e-05\n",
            "root_mean_squared error of is  0.004870397387962788\n"
          ]
        }
      ]
    },
    {
      "cell_type": "code",
      "source": [
        "fig, ax = plt.subplots()\n",
        "ax.scatter(y_predict, y_test, edgecolors=(0, 0, 1))\n",
        "ax.plot([y_test.min(), y_test.max()], [y_test.min(), y_test.max()], 'r--', lw=3)\n",
        "ax.set_xlabel('Predicted')\n",
        "ax.set_ylabel('Actual')\n",
        "plt.show()"
      ],
      "metadata": {
        "colab": {
          "base_uri": "https://localhost:8080/",
          "height": 279
        },
        "id": "4uLoRxqAcRn2",
        "outputId": "288ee766-2f70-4d35-8998-05656af4cf5a"
      },
      "execution_count": 57,
      "outputs": [
        {
          "output_type": "display_data",
          "data": {
            "image/png": "[encoded data removed]",
            "text/plain": [
              "<Figure size 432x288 with 1 Axes>"
            ]
          },
          "metadata": {
            "needs_background": "light"
          }
        }
      ]
    },
    {
      "cell_type": "code",
      "source": [
        ""
      ],
      "metadata": {
        "id": "vz8VsJ4ad9ke"
      },
      "execution_count": null,
      "outputs": []
    }
  ]
}