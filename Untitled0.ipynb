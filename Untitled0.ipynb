{
  "nbformat": 4,
  "nbformat_minor": 0,
  "metadata": {
    "colab": {
      "name": "Untitled0.ipynb",
      "provenance": []
    },
    "kernelspec": {
      "name": "python3",
      "display_name": "Python 3"
    },
    "language_info": {
      "name": "python"
    }
  },
  "cells": [
    {
      "cell_type": "code",
      "execution_count": 43,
      "metadata": {
        "colab": {
          "base_uri": "https://localhost:8080/"
        },
        "id": "nc5mJ7XOAouB",
        "outputId": "de81ac30-5a13-4810-f26b-ac28c2133e7e"
      },
      "outputs": [
        {
          "output_type": "stream",
          "name": "stdout",
          "text": [
            "Drive already mounted at /content/drive/; to attempt to forcibly remount, call drive.mount(\"/content/drive/\", force_remount=True).\n"
          ]
        }
      ],
      "source": [
        "from google.colab import drive\n",
        "drive.mount(\"/content/drive/\")"
      ]
    },
    {
      "cell_type": "code",
      "source": [
        "import numpy as np\n",
        "import matplotlib.pyplot as plt\n",
        "import pandas as pd"
      ],
      "metadata": {
        "id": "wCQOLGzQDWZ3"
      },
      "execution_count": 44,
      "outputs": []
    },
    {
      "cell_type": "code",
      "source": [
        "Dataset = pd.read_csv(\"/content/drive/MyDrive/hungary_chickenpox.csv\")\n",
        "\n",
        "# importing an array of features\n",
        "x = Dataset.iloc[:, :-1].values \n",
        "# importing an array of dependent variable\n",
        "y = Dataset.iloc[:, -1].values\n",
        "\n",
        "print(x) # returns an array of features"
      ],
      "metadata": {
        "colab": {
          "base_uri": "https://localhost:8080/"
        },
        "id": "DmJl1-F4Dbs0",
        "outputId": "086c1151-adc4-46f1-eb52-babb2ce4647a"
      },
      "execution_count": 75,
      "outputs": [
        {
          "output_type": "stream",
          "name": "stdout",
          "text": [
            "[['03/01/2005' 168 79 ... 11 29 87]\n",
            " ['10/01/2005' 157 60 ... 58 53 68]\n",
            " ['17/01/2005' 96 44 ... 24 18 62]\n",
            " ...\n",
            " ['15/12/2014' 35 7 ... 14 0 17]\n",
            " ['22/12/2014' 30 23 ... 1 1 83]\n",
            " ['29/12/2014' 259 42 ... 27 11 103]]\n"
          ]
        }
      ]
    },
    {
      "cell_type": "code",
      "source": [
        "print(y) # viewing an array of the dependent variable."
      ],
      "metadata": {
        "colab": {
          "base_uri": "https://localhost:8080/"
        },
        "id": "ndhdfsMkD6Rm",
        "outputId": "0d8daa53-987b-4e28-d2e5-cfdc3cc62f00"
      },
      "execution_count": 46,
      "outputs": [
        {
          "output_type": "stream",
          "name": "stdout",
          "text": [
            "[ 68  26  44  31  60  60  70  54  42  54  43  36  36  38  30  22  23  32\n",
            "  47  21  43  34  37  47  70  18  34  14   7   9   2   4   1   2   2   0\n",
            "   0   3  16  13  17   8  16  18  40  34  44  65  38  47  40  31 107  67\n",
            "  43  60  45  48  85  60  76  37  58  39  81  36  42  45  22  74  62  67\n",
            "  30  51  37  40  31  12  26  20   9   6   1   0   0   0   2   0   2   1\n",
            "   3  10  10   4  12   6  18  13  16  11  32  35  32  24  42  63  36  67\n",
            "  54  70  35  45  29  42  24  39  64  27  42  44  51  37  45  54  49  32\n",
            "  32  16  11  12   9   0   0   0   2   0   0   3   0   0   1   1   0   0\n",
            "   6   8   4   7  21  20  10  13  18  15  11  13  12  13  21  11  13   1\n",
            "   5   5  22  11  18  18  10  21   4  22  14   1  11  19  14   7  12   7\n",
            "   2  10   5   1  13   1   3   3   1   0   3   2   5   1   9   5   0   5\n",
            "  25   4  30   2  22   5   4  49  17  13  10  24  10   8  23  15  13   6\n",
            "  55  22  17   5   5  51  14  17  25  82   9   2  43  52   5  42  13   4\n",
            "  51  18   1  21   4   8   1   4   2   0   1   1   2   0   0   3  15   3\n",
            "  31  13  25  18  27  55  24   8  11  26  12   8  15   2   7   5   2   7\n",
            "   5   4   2  16   6  25  13  15  20  14  11  30  31  13  26  50  11  24\n",
            "   6   9   5   6   3   4   6   3   4   0  18   1  24  11  35  60  29  33\n",
            "  75  31  22  49  35  58  71  16  86  56  41  43  21  46  35  46  35  42\n",
            "  43  49  41  54  22  18  65  32  40  44  45  26  19  28  37   6  15   9\n",
            "  15   5   2   0   1   4   1   0   6   4   0   0   5   4   7   4   0   6\n",
            "  12  33  12  69  46  29  23   3  36  12 216  12  22  15  24  23  28   7\n",
            "   8  26  21  41   2  39  12  13  10   4  20   6  10   2   8   4   1   2\n",
            "   1   4   0   4   0   2   0   0   1   0   1   7   1   6   2   8  40  11\n",
            "  16   1  18   0   5  16  19   1  73   2  37  13  23  15  17   6  11   2\n",
            "  17  13   1   3  18  13   9  12   5  19  17  12  18  11   5   4   3   2\n",
            "   4   0   1   0   0   0   1   0   2   2   5   1   6  13   2   3   2   4\n",
            "   2   5  15  13  20  17   6  14  89  33   2  13  22  32  51  20  98   3\n",
            "   0  91  13   8  50  38  31  24  24   0  34  16   6   1   0   9   3   2\n",
            "   1   0   0   1   0   4   0   7  10   7   1   4   0  10   9  10   2  25]\n"
          ]
        }
      ]
    },
    {
      "cell_type": "code",
      "source": [
        "from sklearn.impute import SimpleImputer\n",
        "# To replace the missing value we create below object of SimpleImputer class\n",
        "imputa = SimpleImputer(missing_values = np.nan, strategy = 'mean')\n",
        "''' Using the fit method, we apply the `imputa` object on the matrix of our feature x.\n",
        "The `fit()` method identifies the missing values and computes the mean of such feature a missing value is present.\n",
        "'''\n",
        "imputa.fit(x[:, 1:3])\n",
        "# Repalcing the missing value using transform method\n",
        "x[:, 1:3] = imputa.transform(x[:, 1:3])"
      ],
      "metadata": {
        "id": "S90WcuR0XWBY"
      },
      "execution_count": 48,
      "outputs": []
    },
    {
      "cell_type": "code",
      "source": [
        "print(x)"
      ],
      "metadata": {
        "colab": {
          "base_uri": "https://localhost:8080/"
        },
        "id": "4wcNzvo1X5uS",
        "outputId": "0acc5593-f2cf-4ea9-9cb4-fc22f1e7af95"
      },
      "execution_count": 49,
      "outputs": [
        {
          "output_type": "stream",
          "name": "stdout",
          "text": [
            "[['03/01/2005' 168.0 79.0 ... 11 29 87]\n",
            " ['10/01/2005' 157.0 60.0 ... 58 53 68]\n",
            " ['17/01/2005' 96.0 44.0 ... 24 18 62]\n",
            " ...\n",
            " ['15/12/2014' 35.0 7.0 ... 14 0 17]\n",
            " ['22/12/2014' 30.0 23.0 ... 1 1 83]\n",
            " ['29/12/2014' 259.0 42.0 ... 27 11 103]]\n"
          ]
        }
      ]
    },
    {
      "cell_type": "code",
      "source": [
        "# Encoding categorial data\n",
        "from sklearn.compose import ColumnTransformer\n",
        "from sklearn.preprocessing import OneHotEncoder\n",
        "ct = ColumnTransformer(transformers=[('encoder', OneHotEncoder(), [0])], remainder= 'passthrough')\n",
        "x = np.array(ct.fit_transform(x))"
      ],
      "metadata": {
        "id": "tIvD0mIYX7Re"
      },
      "execution_count": 50,
      "outputs": []
    },
    {
      "cell_type": "code",
      "source": [
        "print(x)"
      ],
      "metadata": {
        "colab": {
          "base_uri": "https://localhost:8080/"
        },
        "id": "CHDDcejXYM6e",
        "outputId": "8a270a9f-9cc7-4f4a-de60-3d65137118ce"
      },
      "execution_count": 51,
      "outputs": [
        {
          "output_type": "stream",
          "name": "stdout",
          "text": [
            "  (0, 33)\t1.0\n",
            "  (0, 522)\t168.0\n",
            "  (0, 523)\t79.0\n",
            "  (0, 524)\t30.0\n",
            "  (0, 525)\t173.0\n",
            "  (0, 526)\t169.0\n",
            "  (0, 527)\t42.0\n",
            "  (0, 528)\t136.0\n",
            "  (0, 529)\t120.0\n",
            "  (0, 530)\t162.0\n",
            "  (0, 531)\t36.0\n",
            "  (0, 532)\t130.0\n",
            "  (0, 533)\t57.0\n",
            "  (0, 534)\t2.0\n",
            "  (0, 535)\t178.0\n",
            "  (0, 536)\t66.0\n",
            "  (0, 537)\t64.0\n",
            "  (0, 538)\t11.0\n",
            "  (0, 539)\t29.0\n",
            "  (0, 540)\t87.0\n",
            "  (1, 153)\t1.0\n",
            "  (1, 522)\t157.0\n",
            "  (1, 523)\t60.0\n",
            "  (1, 524)\t30.0\n",
            "  (1, 525)\t92.0\n",
            "  :\t:\n",
            "  (520, 536)\t5.0\n",
            "  (520, 537)\t17.0\n",
            "  (520, 538)\t1.0\n",
            "  (520, 539)\t1.0\n",
            "  (520, 540)\t83.0\n",
            "  (521, 494)\t1.0\n",
            "  (521, 522)\t259.0\n",
            "  (521, 523)\t42.0\n",
            "  (521, 524)\t49.0\n",
            "  (521, 525)\t32.0\n",
            "  (521, 526)\t38.0\n",
            "  (521, 527)\t15.0\n",
            "  (521, 528)\t11.0\n",
            "  (521, 529)\t98.0\n",
            "  (521, 530)\t61.0\n",
            "  (521, 531)\t38.0\n",
            "  (521, 532)\t112.0\n",
            "  (521, 533)\t61.0\n",
            "  (521, 534)\t53.0\n",
            "  (521, 535)\t256.0\n",
            "  (521, 536)\t45.0\n",
            "  (521, 537)\t39.0\n",
            "  (521, 538)\t27.0\n",
            "  (521, 539)\t11.0\n",
            "  (521, 540)\t103.0\n"
          ]
        }
      ]
    },
    {
      "cell_type": "code",
      "source": [
        "from sklearn.preprocessing import LabelEncoder\n",
        "le = LabelEncoder()\n",
        "y = le.fit_transform(y)\n",
        "\n",
        "print(y)"
      ],
      "metadata": {
        "colab": {
          "base_uri": "https://localhost:8080/"
        },
        "id": "rgDQX3PWYQxR",
        "outputId": "26903884-a270-43cb-ebfd-93e510f7c338"
      },
      "execution_count": 52,
      "outputs": [
        {
          "output_type": "stream",
          "name": "stdout",
          "text": [
            "[63 26 44 31 57 57 65 53 42 53 43 36 36 38 30 22 23 32 47 21 43 34 37 47\n",
            " 65 18 34 14  7  9  2  4  1  2  2  0  0  3 16 13 17  8 16 18 40 34 44 61\n",
            " 38 47 40 31 78 62 43 57 45 48 73 57 70 37 56 39 71 36 42 45 22 68 58 62\n",
            " 30 51 37 40 31 12 26 20  9  6  1  0  0  0  2  0  2  1  3 10 10  4 12  6\n",
            " 18 13 16 11 32 35 32 24 42 59 36 62 53 65 35 45 29 42 24 39 60 27 42 44\n",
            " 51 37 45 53 49 32 32 16 11 12  9  0  0  0  2  0  0  3  0  0  1  1  0  0\n",
            "  6  8  4  7 21 20 10 13 18 15 11 13 12 13 21 11 13  1  5  5 22 11 18 18\n",
            " 10 21  4 22 14  1 11 19 14  7 12  7  2 10  5  1 13  1  3  3  1  0  3  2\n",
            "  5  1  9  5  0  5 25  4 30  2 22  5  4 49 17 13 10 24 10  8 23 15 13  6\n",
            " 54 22 17  5  5 51 14 17 25 72  9  2 43 52  5 42 13  4 51 18  1 21  4  8\n",
            "  1  4  2  0  1  1  2  0  0  3 15  3 31 13 25 18 27 54 24  8 11 26 12  8\n",
            " 15  2  7  5  2  7  5  4  2 16  6 25 13 15 20 14 11 30 31 13 26 50 11 24\n",
            "  6  9  5  6  3  4  6  3  4  0 18  1 24 11 35 57 29 33 69 31 22 49 35 56\n",
            " 66 16 74 55 41 43 21 46 35 46 35 42 43 49 41 53 22 18 61 32 40 44 45 26\n",
            " 19 28 37  6 15  9 15  5  2  0  1  4  1  0  6  4  0  0  5  4  7  4  0  6\n",
            " 12 33 12 64 46 29 23  3 36 12 79 12 22 15 24 23 28  7  8 26 21 41  2 39\n",
            " 12 13 10  4 20  6 10  2  8  4  1  2  1  4  0  4  0  2  0  0  1  0  1  7\n",
            "  1  6  2  8 40 11 16  1 18  0  5 16 19  1 67  2 37 13 23 15 17  6 11  2\n",
            " 17 13  1  3 18 13  9 12  5 19 17 12 18 11  5  4  3  2  4  0  1  0  0  0\n",
            "  1  0  2  2  5  1  6 13  2  3  2  4  2  5 15 13 20 17  6 14 75 33  2 13\n",
            " 22 32 51 20 77  3  0 76 13  8 50 38 31 24 24  0 34 16  6  1  0  9  3  2\n",
            "  1  0  0  1  0  4  0  7 10  7  1  4  0 10  9 10  2 25]\n"
          ]
        }
      ]
    },
    {
      "cell_type": "code",
      "source": [
        "# importing an array of features\n",
        "x = Dataset.iloc[:, :-1].values \n",
        "# importing an array of dependent variable\n",
        "y = Dataset.iloc[:, -1].values"
      ],
      "metadata": {
        "id": "ReiQIBqhYT_-"
      },
      "execution_count": 61,
      "outputs": []
    },
    {
      "cell_type": "code",
      "source": [
        "from sklearn.model_selection import train_test_split\n",
        "x_train, x_test, y_train, y_test = train_test_split(x, y, test_size = 0.4,random_state= 1)"
      ],
      "metadata": {
        "id": "dcvr11xBnJKA"
      },
      "execution_count": 67,
      "outputs": []
    },
    {
      "cell_type": "code",
      "source": [
        "print(x_train)"
      ],
      "metadata": {
        "colab": {
          "base_uri": "https://localhost:8080/"
        },
        "id": "LOx7OJPbpSJ5",
        "outputId": "0ca89d2b-37a1-4a21-e349-905e30c385d2"
      },
      "execution_count": 68,
      "outputs": [
        {
          "output_type": "stream",
          "name": "stdout",
          "text": [
            "[['18/03/2013' 228 68 ... 38 48 43]\n",
            " ['28/11/2011' 83 16 ... 12 21 12]\n",
            " ['20/04/2009' 265 25 ... 40 78 45]\n",
            " ...\n",
            " ['22/05/2006' 266 72 ... 92 24 136]\n",
            " ['06/07/2009' 104 26 ... 9 17 8]\n",
            " ['19/09/2005' 12 3 ... 6 4 4]]\n"
          ]
        }
      ]
    },
    {
      "cell_type": "code",
      "source": [
        "print(x_test)"
      ],
      "metadata": {
        "colab": {
          "base_uri": "https://localhost:8080/"
        },
        "id": "pWpyzjSopUgO",
        "outputId": "dcc82d78-bf2e-4b65-a2ce-b3ab1b8d35fd"
      },
      "execution_count": 69,
      "outputs": [
        {
          "output_type": "stream",
          "name": "stdout",
          "text": [
            "[['04/08/2008' 22 2 ... 1 9 5]\n",
            " ['06/06/2011' 115 29 ... 39 8 72]\n",
            " ['09/07/2012' 67 7 ... 1 38 6]\n",
            " ...\n",
            " ['28/07/2008' 51 4 ... 13 7 4]\n",
            " ['20/02/2012' 147 20 ... 1 39 65]\n",
            " ['21/09/2009' 4 0 ... 0 3 3]]\n"
          ]
        }
      ]
    },
    {
      "cell_type": "code",
      "source": [
        "print(y_train)"
      ],
      "metadata": {
        "colab": {
          "base_uri": "https://localhost:8080/"
        },
        "id": "lBcuo9PWcgGC",
        "outputId": "f9a3a634-fe26-4619-fb18-1c8907eca05f"
      },
      "execution_count": 70,
      "outputs": [
        {
          "output_type": "stream",
          "name": "stdout",
          "text": [
            "[ 17  12  25  20  13   0  51  10   2   2   0  49  11  41   2  30   0   0\n",
            "  54   0  45  31  16  29  54  21  23   2  68  29  63  29  13   7  35   4\n",
            "   5   4  62  45  18   4  16  10  31  32   5  18  11  17   1   8  50   4\n",
            "  89  33   8  23  56   6  15  19   1  28  52   6  43  32  37  67   2  24\n",
            "   2  11   3  25  21   4  40  10  42   4   8  54  21  20   9   0  42   1\n",
            "  11   2  13  14   7  24   6  60   1   2  17  38   3 216   2   0  39  19\n",
            "  35  51   9  34  60   7   5   4   4  34   0  49  49   4   3  70  13  49\n",
            "   2   1  64  23   0   3   4  42  22  45  91  16  20  10  15  10  13  24\n",
            "  20  42   4   4   0  43  14  54   9  25  15  24   5  11   5  24   5   9\n",
            "   0   0  37   5  76  12   1   1  21  22  18   7  28  21   6  43   7  18\n",
            "  10   1  48  11   0   6   0  17  43  13  40  40  30  12   8   5  20   6\n",
            "  44 107  12  13  20   8  44  12  46   1  13  13  18  35   3  37   1   0\n",
            "   1   0   8   0  19   7   5   6   0  18   0   4   1  13   7  41  14  32\n",
            "   5   2   0  42  15  31   2   9   3  18   0  81  22   0  12  70  19  22\n",
            "  34  31  18  11   1  31   3  47   0   0   4  67   2   1  37   2  39  31\n",
            "  55  15  24  41  12  26  16  37  43  46  54   4  16   1   2   0   2   4\n",
            "   8  13   6  22  40   0  11  12  50  31   2   2   0   4  25  13  12  30\n",
            "  10   0  12   6  30  18   3]\n"
          ]
        }
      ]
    },
    {
      "cell_type": "code",
      "source": [
        "print(y_test)"
      ],
      "metadata": {
        "colab": {
          "base_uri": "https://localhost:8080/"
        },
        "id": "_8ORcg-DckQm",
        "outputId": "2669ad09-5bb6-4a1c-b127-0909f069f3e4"
      },
      "execution_count": 71,
      "outputs": [
        {
          "output_type": "stream",
          "name": "stdout",
          "text": [
            "[ 3 26  8 75  4  9  4  1 32  9  2 13 67  2 16 82 73  2  0  5  3 35 18  5\n",
            "  4 58  3  1  0 11  0  6  1  0  4  5 34  5 65  2  7  2  5 60  6 13  0  6\n",
            " 21  1 44 36 23 69 43  0  5 17  2 27 45 60  2  8  1  2 18 32 12 12 42 11\n",
            " 65 15 17  6 14 18 24  7  9 26 38 17  3 22  0  0 10  0 11 13 21  0  0 18\n",
            " 11  0 39 23  6  9 70 11 36  4 26  3 10 13  1 51  2  1 16 85  0 26  0 10\n",
            " 22 35  4  1  6  5  1 55  5 47  7 14 71  1 10  2  9 44 24  4  7  6 86 26\n",
            " 33 13 40  1 15  0 36 35 24  5 32 15  6 45 15 47 38 37 58 13  8  0 42  2\n",
            " 16  2 15 36  1 22 17  2 16  1 98  5 14  1  1 51 12 22  1 74 13 10 13 33\n",
            "  3 32 27  3 60 51 36  1  4  0 25  1 13 46  3 22  2]\n"
          ]
        }
      ]
    },
    {
      "cell_type": "code",
      "source": [
        "from sklearn.preprocessing import StandardScaler\n",
        "sc = StandardScaler()\n",
        "# we only aply the feature scaling on the features other than dummy variables.\n",
        "x_train[:, 3:] = sc.fit_transform(x_train[:, 3:])\n",
        "x_test[:, 3:] = sc.fit_transform(x_test[:, 3:])"
      ],
      "metadata": {
        "id": "1518zLbNc0Ie"
      },
      "execution_count": 72,
      "outputs": []
    },
    {
      "cell_type": "code",
      "source": [
        "print(x_train)"
      ],
      "metadata": {
        "colab": {
          "base_uri": "https://localhost:8080/"
        },
        "id": "HwqOsc7Pc3_1",
        "outputId": "f979307a-360e-4476-be09-8a52eecd59e6"
      },
      "execution_count": 73,
      "outputs": [
        {
          "output_type": "stream",
          "name": "stdout",
          "text": [
            "[['18/03/2013' 228 68 ... 0.6843739350477956 0.9174103100258172\n",
            "  0.019637929523778783]\n",
            " ['28/11/2011' 83 16 ... -0.3860537188862735 -0.10178707791005517\n",
            "  -0.7486960630940656]\n",
            " ['20/04/2009' 265 25 ... 0.7667145238119548 2.0498518521767863\n",
            "  0.06920786453138164]\n",
            " ...\n",
            " ['22/05/2006' 266 72 ... 2.9075698316800933 0.011457076305041758\n",
            "  2.324639907377312]\n",
            " ['06/07/2009' 104 26 ... -0.5095646020325122 -0.2527792835301844\n",
            "  -0.8478359331092713]\n",
            " ['19/09/2005' 12 3 ... -0.633075485178751 -0.7435039517956045\n",
            "  -0.946975803124477]]\n"
          ]
        }
      ]
    },
    {
      "cell_type": "code",
      "source": [
        "print(x_test)"
      ],
      "metadata": {
        "colab": {
          "base_uri": "https://localhost:8080/"
        },
        "id": "wRIIY5Rvc-r8",
        "outputId": "4c53194b-f1d5-4b9c-a5ef-3a07b28d4ef4"
      },
      "execution_count": 74,
      "outputs": [
        {
          "output_type": "stream",
          "name": "stdout",
          "text": [
            "[['04/08/2008' 22 2 ... -0.8283290237648354 -0.5188380181388177\n",
            "  -0.8115077399098949]\n",
            " ['06/06/2011' 115 29 ... 0.9382094044683341 -0.5634623579705103\n",
            "  0.8221240717574797]\n",
            " ['09/07/2012' 67 7 ... -0.8283290237648354 0.7752678369802662\n",
            "  -0.7871251755566505]\n",
            " ...\n",
            " ['28/07/2008' 51 4 ... -0.2704747832701503 -0.6080866978022028\n",
            "  -0.8358903042631393]\n",
            " ['20/02/2012' 147 20 ... -0.8283290237648354 0.8198921768119588\n",
            "  0.651446121284769]\n",
            " ['21/09/2009' 4 0 ... -0.8748168771393925 -0.7865840571289731\n",
            "  -0.8602728686163837]]\n"
          ]
        }
      ]
    },
    {
      "cell_type": "code",
      "source": [
        "Dataset2 = pd.read_csv(\"/content/drive/MyDrive/hungary_county_edges.csv\")"
      ],
      "metadata": {
        "id": "1HhdSjaUqNbu"
      },
      "execution_count": 76,
      "outputs": []
    },
    {
      "cell_type": "code",
      "source": [
        "# importing an array of features\n",
        "x = Dataset2.iloc[:, :-1].values \n",
        "# importing an array of dependent variable\n",
        "y = Dataset2.iloc[:, -1].values\n",
        "\n",
        "print(x) # returns an array of features"
      ],
      "metadata": {
        "colab": {
          "base_uri": "https://localhost:8080/"
        },
        "id": "tClcNZH9qVK3",
        "outputId": "1079833f-4ac9-410d-a52b-cbb6086da32f"
      },
      "execution_count": 78,
      "outputs": [
        {
          "output_type": "stream",
          "name": "stdout",
          "text": [
            "[['BACS' 'JASZ' 0]\n",
            " ['BACS' 'BACS' 0]\n",
            " ['BACS' 'BARANYA' 0]\n",
            " ['BACS' 'CSONGRAD' 0]\n",
            " ['BACS' 'PEST' 0]\n",
            " ['BACS' 'FEJER' 0]\n",
            " ['BACS' 'TOLNA' 0]\n",
            " ['BARANYA' 'BARANYA' 1]\n",
            " ['BARANYA' 'TOLNA' 1]\n",
            " ['BARANYA' 'SOMOGY' 1]\n",
            " ['BARANYA' 'BACS' 1]\n",
            " ['BEKES' 'HAJDU' 2]\n",
            " ['BEKES' 'BEKES' 2]\n",
            " ['BEKES' 'JASZ' 2]\n",
            " ['BEKES' 'CSONGRAD' 2]\n",
            " ['BORSOD' 'HEVES' 3]\n",
            " ['BORSOD' 'SZABOLCS' 3]\n",
            " ['BORSOD' 'HAJDU' 3]\n",
            " ['BORSOD' 'BORSOD' 3]\n",
            " ['BORSOD' 'NOGRAD' 3]\n",
            " ['BORSOD' 'JASZ' 3]\n",
            " ['BUDAPEST' 'PEST' 4]\n",
            " ['BUDAPEST' 'BUDAPEST' 4]\n",
            " ['CSONGRAD' 'JASZ' 5]\n",
            " ['CSONGRAD' 'BACS' 5]\n",
            " ['CSONGRAD' 'BEKES' 5]\n",
            " ['CSONGRAD' 'CSONGRAD' 5]\n",
            " ['FEJER' 'FEJER' 6]\n",
            " ['FEJER' 'SOMOGY' 6]\n",
            " ['FEJER' 'KOMAROM' 6]\n",
            " ['FEJER' 'TOLNA' 6]\n",
            " ['FEJER' 'BACS' 6]\n",
            " ['FEJER' 'PEST' 6]\n",
            " ['FEJER' 'VESZPREM' 6]\n",
            " ['GYOR' 'VESZPREM' 7]\n",
            " ['GYOR' 'KOMAROM' 7]\n",
            " ['GYOR' 'GYOR' 7]\n",
            " ['GYOR' 'VAS' 7]\n",
            " ['HAJDU' 'JASZ' 8]\n",
            " ['HAJDU' 'HAJDU' 8]\n",
            " ['HAJDU' 'SZABOLCS' 8]\n",
            " ['HAJDU' 'BEKES' 8]\n",
            " ['HAJDU' 'BORSOD' 8]\n",
            " ['HEVES' 'NOGRAD' 9]\n",
            " ['HEVES' 'JASZ' 9]\n",
            " ['HEVES' 'PEST' 9]\n",
            " ['HEVES' 'HEVES' 9]\n",
            " ['HEVES' 'BORSOD' 9]\n",
            " ['JASZ' 'JASZ' 10]\n",
            " ['JASZ' 'CSONGRAD' 10]\n",
            " ['JASZ' 'HEVES' 10]\n",
            " ['JASZ' 'BORSOD' 10]\n",
            " ['JASZ' 'PEST' 10]\n",
            " ['JASZ' 'BEKES' 10]\n",
            " ['JASZ' 'BACS' 10]\n",
            " ['JASZ' 'HAJDU' 10]\n",
            " ['KOMAROM' 'GYOR' 11]\n",
            " ['KOMAROM' 'FEJER' 11]\n",
            " ['KOMAROM' 'KOMAROM' 11]\n",
            " ['KOMAROM' 'VESZPREM' 11]\n",
            " ['KOMAROM' 'PEST' 11]\n",
            " ['NOGRAD' 'PEST' 12]\n",
            " ['NOGRAD' 'BORSOD' 12]\n",
            " ['NOGRAD' 'HEVES' 12]\n",
            " ['NOGRAD' 'NOGRAD' 12]\n",
            " ['PEST' 'NOGRAD' 13]\n",
            " ['PEST' 'FEJER' 13]\n",
            " ['PEST' 'BUDAPEST' 13]\n",
            " ['PEST' 'HEVES' 13]\n",
            " ['PEST' 'BACS' 13]\n",
            " ['PEST' 'JASZ' 13]\n",
            " ['PEST' 'PEST' 13]\n",
            " ['PEST' 'KOMAROM' 13]\n",
            " ['SOMOGY' 'TOLNA' 14]\n",
            " ['SOMOGY' 'VESZPREM' 14]\n",
            " ['SOMOGY' 'BARANYA' 14]\n",
            " ['SOMOGY' 'ZALA' 14]\n",
            " ['SOMOGY' 'SOMOGY' 14]\n",
            " ['SOMOGY' 'FEJER' 14]\n",
            " ['SZABOLCS' 'HAJDU' 15]\n",
            " ['SZABOLCS' 'BORSOD' 15]\n",
            " ['SZABOLCS' 'SZABOLCS' 15]\n",
            " ['TOLNA' 'SOMOGY' 16]\n",
            " ['TOLNA' 'BACS' 16]\n",
            " ['TOLNA' 'BARANYA' 16]\n",
            " ['TOLNA' 'TOLNA' 16]\n",
            " ['TOLNA' 'FEJER' 16]\n",
            " ['VAS' 'VAS' 17]\n",
            " ['VAS' 'ZALA' 17]\n",
            " ['VAS' 'GYOR' 17]\n",
            " ['VAS' 'VESZPREM' 17]\n",
            " ['VESZPREM' 'KOMAROM' 18]\n",
            " ['VESZPREM' 'ZALA' 18]\n",
            " ['VESZPREM' 'VESZPREM' 18]\n",
            " ['VESZPREM' 'GYOR' 18]\n",
            " ['VESZPREM' 'FEJER' 18]\n",
            " ['VESZPREM' 'VAS' 18]\n",
            " ['VESZPREM' 'SOMOGY' 18]\n",
            " ['ZALA' 'VAS' 19]\n",
            " ['ZALA' 'ZALA' 19]\n",
            " ['ZALA' 'SOMOGY' 19]\n",
            " ['ZALA' 'VESZPREM' 19]]\n"
          ]
        }
      ]
    },
    {
      "cell_type": "code",
      "source": [
        "print(y) # viewing an array of the dependent variable."
      ],
      "metadata": {
        "colab": {
          "base_uri": "https://localhost:8080/"
        },
        "id": "VMS9q5mSqfBu",
        "outputId": "8a83fb2f-07da-4a07-f750-b960e5e20d2e"
      },
      "execution_count": 79,
      "outputs": [
        {
          "output_type": "stream",
          "name": "stdout",
          "text": [
            "[10  0  1  5 13  6 16  1 16 14  0  8  2 10  5  9 15  8  3 12 10 13  4 10\n",
            "  0  2  5  6 14 11 16  0 13 18 18 11  7 17 10  8 15  2  3 12 10 13  9  3\n",
            " 10  5  9  3 13  2  0  8  7  6 11 18 13 13  3  9 12 12  6  4  9  0 10 13\n",
            " 11 16 18  1 19 14  6  8  3 15 14  0  1 16  6 17 19  7 18 11 19 18  7  6\n",
            " 17 14 17 19 14 18]\n"
          ]
        }
      ]
    }
  ]
}