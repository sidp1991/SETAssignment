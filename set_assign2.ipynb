{
  "nbformat": 4,
  "nbformat_minor": 0,
  "metadata": {
    "colab": {
      "name": "set_assign2.ipynb",
      "provenance": [],
      "collapsed_sections": []
    },
    "kernelspec": {
      "name": "python3",
      "display_name": "Python 3"
    },
    "language_info": {
      "name": "python"
    }
  },
  "cells": [
    {
      "cell_type": "code",
      "source": [
        "from google.colab import drive\n",
        "drive.mount('/content/drive',force_remount=True)"
      ],
      "metadata": {
        "colab": {
          "base_uri": "https://localhost:8080/"
        },
        "id": "IXF1E8xkHN7q",
        "outputId": "6b116a5c-40e2-4248-8450-aff1a85d4e03"
      },
      "execution_count": null,
      "outputs": [
        {
          "output_type": "stream",
          "name": "stdout",
          "text": [
            "Mounted at /content/drive\n"
          ]
        }
      ]
    },
    {
      "cell_type": "code",
      "source": [
        "\n",
        "import matplotlib.pyplot as plt                               \n",
        "import numpy as np                            \n",
        "from sklearn import linear_model                     \n",
        "import pandas as pd                                          \n",
        "from sklearn.metrics import mean_squared_error, r2_score    \n",
        "from sklearn.model_selection import train_test_split   \n",
        "\n",
        "dataset=pd.read_csv(\"/content/drive/My Drive/weather.csv\")\n",
        "\n",
        "x=dataset.iloc[:,2].values\n",
        "y=dataset.iloc[:,3].values\n",
        "\n",
        "x_train, x_test, y_train, y_test = train_test_split(x, y, test_size = 1/3, random_state = 0)\n",
        "\n",
        "x_test=x_test.reshape(-1,1)\n",
        "x_train=x_train.reshape(-1,1)\n",
        "\n",
        "lin_reg=linear_model.LinearRegression()\n",
        "\n",
        "lin_reg.fit(x_train,y_train)\n",
        "\n",
        "lin_reg_pred=lin_reg.predict(x_test)\n",
        "\n",
        "print(\"Coefficients:\\n\",lin_reg.coef_)\n",
        "print(\"Intercept:\\n\",lin_reg.intercept_)\n",
        "\n",
        "print(\"Mean squared error: %.2f\"\n",
        "      % mean_squared_error(y_test, lin_reg_pred))\n",
        "\n",
        "# Explained variance score: 1 is perfect prediction\n",
        "print('Variance score: %.2f' % r2_score(y_test, lin_reg_pred))\n",
        "\n",
        "plt.scatter(x_test, y_test, color = 'red')\n",
        "plt.plot(x_test, lin_reg_pred, color = 'blue')\n",
        "plt.title('Temperature vs Humidity(Test set)')\n",
        "plt.xlabel('Temperature')\n",
        "plt.ylabel('Relative Humidity')\n",
        "plt.show()\n"
      ],
      "metadata": {
        "colab": {
          "base_uri": "https://localhost:8080/",
          "height": 399
        },
        "id": "Z2msaF7V0SEU",
        "outputId": "e2cd4260-ef83-4e52-9518-f6b02c908fe1"
      },
      "execution_count": null,
      "outputs": [
        {
          "output_type": "stream",
          "name": "stdout",
          "text": [
            "Coefficients:\n",
            " [-4.02872657]\n",
            "Intercept:\n",
            " 194.5221290669885\n",
            "Mean squared error: 4.62\n",
            "Variance score: 0.87\n"
          ]
        },
        {
          "output_type": "display_data",
          "data": {
            "image/png": "[encoded data removed]",
            "text/plain": [
              "<Figure size 432x288 with 1 Axes>"
            ]
          },
          "metadata": {
            "needs_background": "light"
          }
        }
      ]
    }
  ]
}