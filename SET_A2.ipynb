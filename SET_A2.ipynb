{
  "nbformat": 4,
  "nbformat_minor": 0,
  "metadata": {
    "colab": {
      "name": "SET_A2.ipynb",
      "provenance": [],
      "collapsed_sections": []
    },
    "kernelspec": {
      "name": "python3",
      "display_name": "Python 3"
    },
    "language_info": {
      "name": "python"
    }
  },
  "cells": [
    {
      "cell_type": "code",
      "execution_count": null,
      "metadata": {
        "id": "hSMDpSV4LfW2"
      },
      "outputs": [],
      "source": [
        "from google.colab import drive\n",
        "import pandas as pd\n",
        "import numpy as np\n",
        "import matplotlib.pyplot as plt\n",
        "%matplotlib inline\n",
        "from sklearn.linear_model import LinearRegression\n",
        "from sklearn.model_selection import train_test_split"
      ]
    },
    {
      "cell_type": "code",
      "source": [
        "data = pd.read_csv('/content/hungary_chickenpox.csv')"
      ],
      "metadata": {
        "id": "Ougk7jJYM_Dd"
      },
      "execution_count": null,
      "outputs": []
    },
    {
      "cell_type": "code",
      "source": [
        "data.head(10)"
      ],
      "metadata": {
        "colab": {
          "base_uri": "https://localhost:8080/",
          "height": 363
        },
        "id": "pHEH05W1NQxU",
        "outputId": "a8b1cf2a-c7ba-4f89-b9d2-c267b274e5f3"
      },
      "execution_count": null,
      "outputs": [
        {
          "output_type": "execute_result",
          "data": {
            "text/html": [
              "\n",
              "  <div id=\"df-8e190973-fcc9-49bf-b4f3-336eb103d8a0\">\n",
              "    <div class=\"colab-df-container\">\n",
              "      <div>\n",
              "<style scoped>\n",
              "    .dataframe tbody tr th:only-of-type {\n",
              "        vertical-align: middle;\n",
              "    }\n",
              "\n",
              "    .dataframe tbody tr th {\n",
              "        vertical-align: top;\n",
              "    }\n",
              "\n",
              "    .dataframe thead th {\n",
              "        text-align: right;\n",
              "    }\n",
              "</style>\n",
              "<table border=\"1\" class=\"dataframe\">\n",
              "  <thead>\n",
              "    <tr style=\"text-align: right;\">\n",
              "      <th></th>\n",
              "      <th>Date</th>\n",
              "      <th>BUDAPEST</th>\n",
              "      <th>BARANYA</th>\n",
              "      <th>BACS</th>\n",
              "      <th>BEKES</th>\n",
              "      <th>BORSOD</th>\n",
              "      <th>CSONGRAD</th>\n",
              "      <th>FEJER</th>\n",
              "      <th>GYOR</th>\n",
              "      <th>HAJDU</th>\n",
              "      <th>HEVES</th>\n",
              "      <th>JASZ</th>\n",
              "      <th>KOMAROM</th>\n",
              "      <th>NOGRAD</th>\n",
              "      <th>PEST</th>\n",
              "      <th>SOMOGY</th>\n",
              "      <th>SZABOLCS</th>\n",
              "      <th>TOLNA</th>\n",
              "      <th>VAS</th>\n",
              "      <th>VESZPREM</th>\n",
              "      <th>ZALA</th>\n",
              "    </tr>\n",
              "  </thead>\n",
              "  <tbody>\n",
              "    <tr>\n",
              "      <th>0</th>\n",
              "      <td>03/01/2005</td>\n",
              "      <td>168</td>\n",
              "      <td>79</td>\n",
              "      <td>30</td>\n",
              "      <td>173</td>\n",
              "      <td>169</td>\n",
              "      <td>42</td>\n",
              "      <td>136</td>\n",
              "      <td>120</td>\n",
              "      <td>162</td>\n",
              "      <td>36</td>\n",
              "      <td>130</td>\n",
              "      <td>57</td>\n",
              "      <td>2</td>\n",
              "      <td>178</td>\n",
              "      <td>66</td>\n",
              "      <td>64</td>\n",
              "      <td>11</td>\n",
              "      <td>29</td>\n",
              "      <td>87</td>\n",
              "      <td>68</td>\n",
              "    </tr>\n",
              "    <tr>\n",
              "      <th>1</th>\n",
              "      <td>10/01/2005</td>\n",
              "      <td>157</td>\n",
              "      <td>60</td>\n",
              "      <td>30</td>\n",
              "      <td>92</td>\n",
              "      <td>200</td>\n",
              "      <td>53</td>\n",
              "      <td>51</td>\n",
              "      <td>70</td>\n",
              "      <td>84</td>\n",
              "      <td>28</td>\n",
              "      <td>80</td>\n",
              "      <td>50</td>\n",
              "      <td>29</td>\n",
              "      <td>141</td>\n",
              "      <td>48</td>\n",
              "      <td>29</td>\n",
              "      <td>58</td>\n",
              "      <td>53</td>\n",
              "      <td>68</td>\n",
              "      <td>26</td>\n",
              "    </tr>\n",
              "    <tr>\n",
              "      <th>2</th>\n",
              "      <td>17/01/2005</td>\n",
              "      <td>96</td>\n",
              "      <td>44</td>\n",
              "      <td>31</td>\n",
              "      <td>86</td>\n",
              "      <td>93</td>\n",
              "      <td>30</td>\n",
              "      <td>93</td>\n",
              "      <td>84</td>\n",
              "      <td>191</td>\n",
              "      <td>51</td>\n",
              "      <td>64</td>\n",
              "      <td>46</td>\n",
              "      <td>4</td>\n",
              "      <td>157</td>\n",
              "      <td>33</td>\n",
              "      <td>33</td>\n",
              "      <td>24</td>\n",
              "      <td>18</td>\n",
              "      <td>62</td>\n",
              "      <td>44</td>\n",
              "    </tr>\n",
              "    <tr>\n",
              "      <th>3</th>\n",
              "      <td>24/01/2005</td>\n",
              "      <td>163</td>\n",
              "      <td>49</td>\n",
              "      <td>43</td>\n",
              "      <td>126</td>\n",
              "      <td>46</td>\n",
              "      <td>39</td>\n",
              "      <td>52</td>\n",
              "      <td>114</td>\n",
              "      <td>107</td>\n",
              "      <td>42</td>\n",
              "      <td>63</td>\n",
              "      <td>54</td>\n",
              "      <td>14</td>\n",
              "      <td>107</td>\n",
              "      <td>66</td>\n",
              "      <td>50</td>\n",
              "      <td>25</td>\n",
              "      <td>21</td>\n",
              "      <td>43</td>\n",
              "      <td>31</td>\n",
              "    </tr>\n",
              "    <tr>\n",
              "      <th>4</th>\n",
              "      <td>31/01/2005</td>\n",
              "      <td>122</td>\n",
              "      <td>78</td>\n",
              "      <td>53</td>\n",
              "      <td>87</td>\n",
              "      <td>103</td>\n",
              "      <td>34</td>\n",
              "      <td>95</td>\n",
              "      <td>131</td>\n",
              "      <td>172</td>\n",
              "      <td>40</td>\n",
              "      <td>61</td>\n",
              "      <td>49</td>\n",
              "      <td>11</td>\n",
              "      <td>124</td>\n",
              "      <td>63</td>\n",
              "      <td>56</td>\n",
              "      <td>7</td>\n",
              "      <td>47</td>\n",
              "      <td>85</td>\n",
              "      <td>60</td>\n",
              "    </tr>\n",
              "    <tr>\n",
              "      <th>5</th>\n",
              "      <td>07/02/2005</td>\n",
              "      <td>174</td>\n",
              "      <td>76</td>\n",
              "      <td>77</td>\n",
              "      <td>152</td>\n",
              "      <td>189</td>\n",
              "      <td>26</td>\n",
              "      <td>74</td>\n",
              "      <td>181</td>\n",
              "      <td>157</td>\n",
              "      <td>44</td>\n",
              "      <td>95</td>\n",
              "      <td>97</td>\n",
              "      <td>26</td>\n",
              "      <td>146</td>\n",
              "      <td>59</td>\n",
              "      <td>54</td>\n",
              "      <td>27</td>\n",
              "      <td>54</td>\n",
              "      <td>48</td>\n",
              "      <td>60</td>\n",
              "    </tr>\n",
              "    <tr>\n",
              "      <th>6</th>\n",
              "      <td>14/02/2005</td>\n",
              "      <td>153</td>\n",
              "      <td>103</td>\n",
              "      <td>54</td>\n",
              "      <td>192</td>\n",
              "      <td>148</td>\n",
              "      <td>65</td>\n",
              "      <td>100</td>\n",
              "      <td>118</td>\n",
              "      <td>129</td>\n",
              "      <td>40</td>\n",
              "      <td>88</td>\n",
              "      <td>56</td>\n",
              "      <td>10</td>\n",
              "      <td>119</td>\n",
              "      <td>104</td>\n",
              "      <td>85</td>\n",
              "      <td>20</td>\n",
              "      <td>32</td>\n",
              "      <td>153</td>\n",
              "      <td>70</td>\n",
              "    </tr>\n",
              "    <tr>\n",
              "      <th>7</th>\n",
              "      <td>21/02/2005</td>\n",
              "      <td>115</td>\n",
              "      <td>74</td>\n",
              "      <td>64</td>\n",
              "      <td>174</td>\n",
              "      <td>140</td>\n",
              "      <td>56</td>\n",
              "      <td>111</td>\n",
              "      <td>175</td>\n",
              "      <td>138</td>\n",
              "      <td>60</td>\n",
              "      <td>112</td>\n",
              "      <td>70</td>\n",
              "      <td>21</td>\n",
              "      <td>178</td>\n",
              "      <td>70</td>\n",
              "      <td>75</td>\n",
              "      <td>5</td>\n",
              "      <td>66</td>\n",
              "      <td>149</td>\n",
              "      <td>54</td>\n",
              "    </tr>\n",
              "    <tr>\n",
              "      <th>8</th>\n",
              "      <td>28/02/2005</td>\n",
              "      <td>119</td>\n",
              "      <td>86</td>\n",
              "      <td>57</td>\n",
              "      <td>171</td>\n",
              "      <td>90</td>\n",
              "      <td>65</td>\n",
              "      <td>118</td>\n",
              "      <td>105</td>\n",
              "      <td>194</td>\n",
              "      <td>60</td>\n",
              "      <td>67</td>\n",
              "      <td>46</td>\n",
              "      <td>12</td>\n",
              "      <td>112</td>\n",
              "      <td>116</td>\n",
              "      <td>76</td>\n",
              "      <td>22</td>\n",
              "      <td>45</td>\n",
              "      <td>102</td>\n",
              "      <td>42</td>\n",
              "    </tr>\n",
              "    <tr>\n",
              "      <th>9</th>\n",
              "      <td>07/03/2005</td>\n",
              "      <td>114</td>\n",
              "      <td>81</td>\n",
              "      <td>129</td>\n",
              "      <td>217</td>\n",
              "      <td>167</td>\n",
              "      <td>64</td>\n",
              "      <td>93</td>\n",
              "      <td>154</td>\n",
              "      <td>119</td>\n",
              "      <td>34</td>\n",
              "      <td>118</td>\n",
              "      <td>73</td>\n",
              "      <td>6</td>\n",
              "      <td>130</td>\n",
              "      <td>68</td>\n",
              "      <td>59</td>\n",
              "      <td>31</td>\n",
              "      <td>85</td>\n",
              "      <td>96</td>\n",
              "      <td>54</td>\n",
              "    </tr>\n",
              "  </tbody>\n",
              "</table>\n",
              "</div>\n",
              "      <button class=\"colab-df-convert\" onclick=\"convertToInteractive('df-8e190973-fcc9-49bf-b4f3-336eb103d8a0')\"\n",
              "              title=\"Convert this dataframe to an interactive table.\"\n",
              "              style=\"display:none;\">\n",
              "        \n",
              "  <svg xmlns=\"http://www.w3.org/2000/svg\" height=\"24px\"viewBox=\"0 0 24 24\"\n",
              "       width=\"24px\">\n",
              "    <path d=\"M0 0h24v24H0V0z\" fill=\"none\"/>\n",
              "    <path d=\"M18.56 5.44l.94 2.06.94-2.06 2.06-.94-2.06-.94-.94-2.06-.94 2.06-2.06.94zm-11 1L8.5 8.5l.94-2.06 2.06-.94-2.06-.94L8.5 2.5l-.94 2.06-2.06.94zm10 10l.94 2.06.94-2.06 2.06-.94-2.06-.94-.94-2.06-.94 2.06-2.06.94z\"/><path d=\"M17.41 7.96l-1.37-1.37c-.4-.4-.92-.59-1.43-.59-.52 0-1.04.2-1.43.59L10.3 9.45l-7.72 7.72c-.78.78-.78 2.05 0 2.83L4 21.41c.39.39.9.59 1.41.59.51 0 1.02-.2 1.41-.59l7.78-7.78 2.81-2.81c.8-.78.8-2.07 0-2.86zM5.41 20L4 18.59l7.72-7.72 1.47 1.35L5.41 20z\"/>\n",
              "  </svg>\n",
              "      </button>\n",
              "      \n",
              "  <style>\n",
              "    .colab-df-container {\n",
              "      display:flex;\n",
              "      flex-wrap:wrap;\n",
              "      gap: 12px;\n",
              "    }\n",
              "\n",
              "    .colab-df-convert {\n",
              "      background-color: #E8F0FE;\n",
              "      border: none;\n",
              "      border-radius: 50%;\n",
              "      cursor: pointer;\n",
              "      display: none;\n",
              "      fill: #1967D2;\n",
              "      height: 32px;\n",
              "      padding: 0 0 0 0;\n",
              "      width: 32px;\n",
              "    }\n",
              "\n",
              "    .colab-df-convert:hover {\n",
              "      background-color: #E2EBFA;\n",
              "      box-shadow: 0px 1px 2px rgba(60, 64, 67, 0.3), 0px 1px 3px 1px rgba(60, 64, 67, 0.15);\n",
              "      fill: #174EA6;\n",
              "    }\n",
              "\n",
              "    [theme=dark] .colab-df-convert {\n",
              "      background-color: #3B4455;\n",
              "      fill: #D2E3FC;\n",
              "    }\n",
              "\n",
              "    [theme=dark] .colab-df-convert:hover {\n",
              "      background-color: #434B5C;\n",
              "      box-shadow: 0px 1px 3px 1px rgba(0, 0, 0, 0.15);\n",
              "      filter: drop-shadow(0px 1px 2px rgba(0, 0, 0, 0.3));\n",
              "      fill: #FFFFFF;\n",
              "    }\n",
              "  </style>\n",
              "\n",
              "      <script>\n",
              "        const buttonEl =\n",
              "          document.querySelector('#df-8e190973-fcc9-49bf-b4f3-336eb103d8a0 button.colab-df-convert');\n",
              "        buttonEl.style.display =\n",
              "          google.colab.kernel.accessAllowed ? 'block' : 'none';\n",
              "\n",
              "        async function convertToInteractive(key) {\n",
              "          const element = document.querySelector('#df-8e190973-fcc9-49bf-b4f3-336eb103d8a0');\n",
              "          const dataTable =\n",
              "            await google.colab.kernel.invokeFunction('convertToInteractive',\n",
              "                                                     [key], {});\n",
              "          if (!dataTable) return;\n",
              "\n",
              "          const docLinkHtml = 'Like what you see? Visit the ' +\n",
              "            '<a target=\"_blank\" href=https://colab.research.google.com/notebooks/data_table.ipynb>data table notebook</a>'\n",
              "            + ' to learn more about interactive tables.';\n",
              "          element.innerHTML = '';\n",
              "          dataTable['output_type'] = 'display_data';\n",
              "          await google.colab.output.renderOutput(dataTable, element);\n",
              "          const docLink = document.createElement('div');\n",
              "          docLink.innerHTML = docLinkHtml;\n",
              "          element.appendChild(docLink);\n",
              "        }\n",
              "      </script>\n",
              "    </div>\n",
              "  </div>\n",
              "  "
            ],
            "text/plain": [
              "         Date  BUDAPEST  BARANYA  BACS  ...  TOLNA  VAS  VESZPREM  ZALA\n",
              "0  03/01/2005       168       79    30  ...     11   29        87    68\n",
              "1  10/01/2005       157       60    30  ...     58   53        68    26\n",
              "2  17/01/2005        96       44    31  ...     24   18        62    44\n",
              "3  24/01/2005       163       49    43  ...     25   21        43    31\n",
              "4  31/01/2005       122       78    53  ...      7   47        85    60\n",
              "5  07/02/2005       174       76    77  ...     27   54        48    60\n",
              "6  14/02/2005       153      103    54  ...     20   32       153    70\n",
              "7  21/02/2005       115       74    64  ...      5   66       149    54\n",
              "8  28/02/2005       119       86    57  ...     22   45       102    42\n",
              "9  07/03/2005       114       81   129  ...     31   85        96    54\n",
              "\n",
              "[10 rows x 21 columns]"
            ]
          },
          "metadata": {},
          "execution_count": 24
        }
      ]
    },
    {
      "cell_type": "code",
      "source": [
        "print('Defining variables')\n",
        "X = data['HEVES']\n",
        "y = data['JASZ']"
      ],
      "metadata": {
        "colab": {
          "base_uri": "https://localhost:8080/"
        },
        "id": "RCjCq8_cNrku",
        "outputId": "b75c59fa-91c8-40eb-e661-b5c9c032f377"
      },
      "execution_count": null,
      "outputs": [
        {
          "output_type": "stream",
          "name": "stdout",
          "text": [
            "Defining variables\n"
          ]
        }
      ]
    },
    {
      "cell_type": "code",
      "source": [
        "plt.scatter(X,y, color='green')"
      ],
      "metadata": {
        "colab": {
          "base_uri": "https://localhost:8080/",
          "height": 282
        },
        "id": "IomTXJijUus4",
        "outputId": "8cfd0c61-e595-4282-9fa5-2fd0b6f3828e"
      },
      "execution_count": null,
      "outputs": [
        {
          "output_type": "execute_result",
          "data": {
            "text/plain": [
              "<matplotlib.collections.PathCollection at 0x7f84bbe21e50>"
            ]
          },
          "metadata": {},
          "execution_count": 13
        },
        {
          "output_type": "display_data",
          "data": {
            "image/png": "[encoded data removed]",
            "text/plain": [
              "<Figure size 432x288 with 1 Axes>"
            ]
          },
          "metadata": {
            "needs_background": "light"
          }
        }
      ]
    },
    {
      "cell_type": "code",
      "source": [
        "print('Splitting the data into hour')\n",
        "X_hour, X_test, y_hour, y_test = train_test_split(X,y,random_state=0)"
      ],
      "metadata": {
        "colab": {
          "base_uri": "https://localhost:8080/"
        },
        "id": "XlgytficU2q1",
        "outputId": "c1195621-b88e-454c-ded9-1ee759761626"
      },
      "execution_count": null,
      "outputs": [
        {
          "output_type": "stream",
          "name": "stdout",
          "text": [
            "Splitting the data into hour\n"
          ]
        }
      ]
    },
    {
      "cell_type": "code",
      "source": [
        "plt.scatter(X_hour,y_hour, color='green')"
      ],
      "metadata": {
        "colab": {
          "base_uri": "https://localhost:8080/",
          "height": 282
        },
        "id": "GXhMYftZU6Nf",
        "outputId": "f5814a47-4919-4129-94f2-fe9411a6ed46"
      },
      "execution_count": null,
      "outputs": [
        {
          "output_type": "execute_result",
          "data": {
            "text/plain": [
              "<matplotlib.collections.PathCollection at 0x7f84bb902b90>"
            ]
          },
          "metadata": {},
          "execution_count": 15
        },
        {
          "output_type": "display_data",
          "data": {
            "image/png": "[encoded data removed]",
            "text/plain": [
              "<Figure size 432x288 with 1 Axes>"
            ]
          },
          "metadata": {
            "needs_background": "light"
          }
        }
      ]
    },
    {
      "cell_type": "code",
      "source": [
        "plt.scatter(X_test,y_test, color='green')"
      ],
      "metadata": {
        "colab": {
          "base_uri": "https://localhost:8080/",
          "height": 282
        },
        "id": "iF5doHVEU8p7",
        "outputId": "ea6000a1-8f72-41f1-9c7f-2dc77a6565b9"
      },
      "execution_count": null,
      "outputs": [
        {
          "output_type": "execute_result",
          "data": {
            "text/plain": [
              "<matplotlib.collections.PathCollection at 0x7f84bb870c50>"
            ]
          },
          "metadata": {},
          "execution_count": 16
        },
        {
          "output_type": "display_data",
          "data": {
            "image/png": "[encoded data removed]",
            "text/plain": [
              "<Figure size 432x288 with 1 Axes>"
            ]
          },
          "metadata": {
            "needs_background": "light"
          }
        }
      ]
    },
    {
      "cell_type": "code",
      "source": [
        "print('Training the model using X_hour, y_hour')\n",
        "lr = LinearRegression()\n",
        "\n",
        "#print(X_hour)\n",
        "#print(y_hour)\n",
        "#print(X_hour.values.reshape(-1,1))\n",
        "lr.fit(X_hour.values.reshape(-1,1),y_hour)"
      ],
      "metadata": {
        "colab": {
          "base_uri": "https://localhost:8080/"
        },
        "id": "TCXFn3KcVCIV",
        "outputId": "cccb207c-3e70-46ff-b4fe-82290df8873a"
      },
      "execution_count": null,
      "outputs": [
        {
          "output_type": "stream",
          "name": "stdout",
          "text": [
            "Training the model using X_hour, y_hour\n"
          ]
        },
        {
          "output_type": "execute_result",
          "data": {
            "text/plain": [
              "LinearRegression()"
            ]
          },
          "metadata": {},
          "execution_count": 22
        }
      ]
    },
    {
      "cell_type": "code",
      "source": [
        "print('Predicting using the trained model - X_hour')\n",
        "y_pred=lr.predict(X_test.values.reshape(-1,1))"
      ],
      "metadata": {
        "colab": {
          "base_uri": "https://localhost:8080/"
        },
        "id": "QeV-xcYXVFs_",
        "outputId": "971fce66-ef9c-4d04-a012-b3d8afba6b20"
      },
      "execution_count": null,
      "outputs": [
        {
          "output_type": "stream",
          "name": "stdout",
          "text": [
            "Predicting using the trained model - X_hour\n"
          ]
        }
      ]
    },
    {
      "cell_type": "code",
      "source": [
        "print(y_test) #Test data - actual data\n",
        "print(y_pred) #Model predicted dataset"
      ],
      "metadata": {
        "colab": {
          "base_uri": "https://localhost:8080/"
        },
        "id": "Zslpyr7sVI2a",
        "outputId": "560bb7a9-88c7-4c04-8139-cf05c6210696"
      },
      "execution_count": null,
      "outputs": [
        {
          "output_type": "stream",
          "name": "stdout",
          "text": [
            "414     47\n",
            "478     23\n",
            "75      68\n",
            "126     45\n",
            "454      1\n",
            "      ... \n",
            "318    101\n",
            "179     39\n",
            "434     32\n",
            "313     68\n",
            "501      7\n",
            "Name: JASZ, Length: 131, dtype: int64\n",
            "[ 24.96674618  27.27211249  49.17309244  76.83748816  26.11942934\n",
            "  24.3904046   49.17309244  32.45918669  28.42479565  24.96674618\n",
            "  44.56235982  64.15797345  33.61186984  24.3904046   29.00113722\n",
            "  28.42479565  35.91723615  50.32577559  55.51284979  34.764553\n",
            "  24.3904046   43.98601824  45.71504297  37.06991931  37.06991931\n",
            "  24.96674618  45.13870139  30.73016196  24.96674618  28.42479565\n",
            "  24.96674618  24.3904046   30.73016196 123.52115594  60.69992399\n",
            "  83.17724551  27.27211249  23.81406303  39.37528562  23.81406303\n",
            "  47.4440677   50.32577559  64.73431503  29.00113722  42.83333508\n",
            "  35.34089458  44.56235982  34.18821142  50.90211717  37.06991931\n",
            "  39.9516272   26.69577091  34.18821142  23.81406303  54.36016664\n",
            "  43.98601824  24.96674618  29.5774788   41.10431035  56.66553295\n",
            "  92.39871075  87.78797813 110.84164123  39.9516272   34.18821142\n",
            "  47.4440677   46.86772613  38.79894404  52.05480033  35.34089458\n",
            "  26.11942934  24.3904046   31.88284511  42.25699351  24.96674618\n",
            "  31.30650353  24.96674618  56.66553295  45.71504297  25.54308776\n",
            "  24.3904046   29.00113722  34.18821142  42.83333508  34.764553\n",
            "  84.32992867  24.96674618  23.81406303  29.5774788   60.12358241\n",
            "  24.3904046   24.96674618  58.39455768  23.81406303  34.18821142\n",
            "  24.3904046   25.54308776  26.11942934  52.05480033  27.27211249\n",
            "  24.96674618  44.56235982  35.34089458  38.79894404  31.30650353\n",
            "  26.69577091  24.3904046   38.22260246  87.21163655  52.6311419\n",
            "  46.29138455  29.00113722  26.11942934  71.07407238  34.764553\n",
            "  29.00113722  34.764553    45.71504297  24.3904046   31.30650353\n",
            "  41.10431035  35.91723615  46.86772613  37.64626089  58.39455768\n",
            "  24.3904046   28.42479565  37.64626089  45.13870139  27.84845407\n",
            "  30.73016196]\n"
          ]
        }
      ]
    },
    {
      "cell_type": "code",
      "source": [
        "plt.scatter(X_hour,y_hour,color='Green')\n",
        "plt.scatter(X_test,y_pred,color='red')\n",
        "\n",
        "plt.xticks()\n",
        "plt.yticks()\n",
        "plt.show()"
      ],
      "metadata": {
        "colab": {
          "base_uri": "https://localhost:8080/",
          "height": 265
        },
        "id": "_JtAsPH5VM7x",
        "outputId": "535eefd0-f65a-425f-fe21-7dfb40400e2a"
      },
      "execution_count": null,
      "outputs": [
        {
          "output_type": "display_data",
          "data": {
            "image/png": "[encoded data removed]",
            "text/plain": [
              "<Figure size 432x288 with 1 Axes>"
            ]
          },
          "metadata": {
            "needs_background": "light"
          }
        }
      ]
    },
    {
      "cell_type": "code",
      "source": [
        "print('Finding intercept & coeff')\n",
        "print('Intercept', lr.intercept_)\n",
        "print('Coefficient', lr.coef_)\n",
        "print(lr.coef_,'x +',lr.intercept_)"
      ],
      "metadata": {
        "colab": {
          "base_uri": "https://localhost:8080/"
        },
        "id": "ITr1nBQnVQpb",
        "outputId": "34119362-c0bf-4bfe-b041-6e3bb2a56a1c"
      },
      "execution_count": null,
      "outputs": [
        {
          "output_type": "stream",
          "name": "stdout",
          "text": [
            "Finding intercept & coeff\n",
            "Intercept 23.81406302579099\n",
            "Coefficient [0.57634158]\n",
            "[0.57634158] x + 23.81406302579099\n"
          ]
        }
      ]
    }
  ]
}