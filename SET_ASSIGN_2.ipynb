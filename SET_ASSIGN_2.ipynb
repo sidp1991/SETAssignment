{
  "cells": [
    {
      "cell_type": "code",
      "execution_count": null,
      "metadata": {
        "id": "hOCqsVcMmwiw"
      },
      "outputs": [],
      "source": [
        "# PRN : 2019BTECS00102\n",
        "# PRN : 2019BTECS00100"
      ]
    },
    {
      "cell_type": "code",
      "execution_count": null,
      "metadata": {
        "colab": {
          "base_uri": "https://localhost:8080/",
          "height": 664
        },
        "id": "QzIw6mS8riiQ",
        "outputId": "ba651f2b-546a-471e-f5bc-dce35ca1512d"
      },
      "outputs": [
        {
          "name": "stdout",
          "output_type": "stream",
          "text": [
            "['  60' '  60' '  50' '  50']\n",
            "Test\n",
            "[['19.890000000000001' '46.299999999999997' '19.199999999999999'\n",
            "  '44.626666666666701' '19.789999999999999' '44.933333333333302'\n",
            "  '18.926666666666701' '45.890000000000001' '17.166666666666700'\n",
            "  '55.090000000000003' ' 6.559999999999999609' '83.1566666666666947'\n",
            "  '17.199999999999999' '41.433333333333302' '18.199999999999999'\n",
            "  '48.729999999999997' '17.000000000000000' '45.500000000000000'\n",
            "  ' 6.3666666666666698e+00' '733.70000000000005' ' 92.000000000000000'\n",
            "  ' 6.33333333333333037' '55.3333333333333002' ' 5.0999999999999996e+00'\n",
            "  '28.6426681675948202610' '28.6426681675948202610']\n",
            " ['19.890000000000001' '46.693333333333300' '19.199999999999999'\n",
            "  '44.722499999999997' '19.789999999999999' '44.789999999999999'\n",
            "  '19.000000000000000' '45.992500000000000' '17.166666666666700'\n",
            "  '55.200000000000003' ' 6.833333333333330373' '84.0633333333333042'\n",
            "  '17.199999999999999' '41.560000000000002' '18.199999999999999'\n",
            "  '48.863333333333301' '17.066666666666698' '45.560000000000002'\n",
            "  ' 6.4833333333333298e+00' '733.60000000000002' ' 92.000000000000000'\n",
            "  ' 6.66666666666666963' '59.1666666666666998' ' 5.2000000000000002e+00'\n",
            "  '18.6061949818395078182' '18.6061949818395078182']]\n",
            "['  50' '  60']\n",
            "Mean squared error is:  14.541278065208676\n",
            "(2, 26) (2,)\n"
          ]
        },
        {
          "data": {
            "image/png": "[encoded data removed]",
            "text/plain": [
              "<Figure size 432x288 with 1 Axes>"
            ]
          },
          "metadata": {
            "needs_background": "light"
          },
          "output_type": "display_data"
        }
      ],
      "source": [
        "import matplotlib.pyplot as plt\n",
        "import pandas as pd\n",
        "import numpy as np\n",
        "from sklearn import datasets,linear_model\n",
        "from sklearn.model_selection import train_test_split\n",
        "from sklearn.metrics import  mean_squared_error\n",
        "\n",
        "\n",
        "# importing database\n",
        "myDataset = pd.read_csv(\"https://archive.ics.uci.edu/ml/machine-learning-databases/00374/energydata_complete.csv\",\n",
        "sep= ',', header = None)\n",
        "# print(myDataset)\n",
        "\n",
        "# myDataset_X = myDataset.data[:,np.newaxis,2]\n",
        "# print(myDataset_X)\n",
        "\n",
        "# myDataset.isnull().sum()\n",
        "# myDataset.info()\n",
        "# myDataset.describe()\n",
        "# myDataset.head()\n",
        "\n",
        "# print(myDataset.values[:,1:3])\n",
        "# print(myDataset.values[:,3:29])\n",
        "\n",
        "# Separating the target variable\n",
        "X = myDataset.values[1:5, 3:29]\n",
        "Y = myDataset.values[1:5, 1]\n",
        "\n",
        "# print(X)\n",
        "print(Y)\n",
        "\n",
        "# print(\"X\",Y)\n",
        "# Splitting the dataset into train and test\t\n",
        "# testSize = 30% train = 70%\n",
        "\n",
        "X_train, X_test, Y_train, Y_test = train_test_split(\n",
        "X, Y, test_size = 0.3, random_state = 100)\n",
        "\n",
        "print(\"Test\")\n",
        "print(X_test)\n",
        "print(Y_test)\n",
        "\n",
        "model = linear_model.LinearRegression()\n",
        "model.fit(X_train,Y_train)\n",
        "\n",
        "Y_predicted = model.predict(X_test)\n",
        "\n",
        "print(\"Mean squared error is: \", mean_squared_error(Y_test, Y_predicted))\n",
        "\n",
        "print(X_test.shape, Y_test.shape)\n",
        "\n",
        "fig, ax = plt.subplots()\n",
        "\n",
        "for i, val in enumerate(Y_test):\n",
        "    ax.scatter(X_test[i,:],[val]*26)\n",
        "plt.show()\n",
        "# plt.scatter(X_test[0], Y_test[0])\n",
        "# # plt.plot(X_test[0], Y_predicted[0])\n",
        "# plt.show()\n",
        "\n",
        "\n"
      ]
    },
    {
      "cell_type": "code",
      "execution_count": null,
      "metadata": {
        "id": "jl9gnLKDtNJV"
      },
      "outputs": [],
      "source": []
    },
    {
      "cell_type": "code",
      "execution_count": null,
      "metadata": {
        "id": "IDJWsRA-4ocG"
      },
      "outputs": [],
      "source": []
    },
    {
      "cell_type": "code",
      "execution_count": null,
      "metadata": {
        "id": "F4VIX3M74oje"
      },
      "outputs": [],
      "source": []
    },
    {
      "cell_type": "code",
      "execution_count": null,
      "metadata": {
        "id": "sO2s4p964omK"
      },
      "outputs": [],
      "source": []
    },
    {
      "cell_type": "code",
      "execution_count": null,
      "metadata": {
        "id": "a04Gb9un4oou"
      },
      "outputs": [],
      "source": []
    },
    {
      "cell_type": "code",
      "execution_count": null,
      "metadata": {
        "id": "Lcp8L7vQeZMc"
      },
      "outputs": [],
      "source": []
    },
    {
      "cell_type": "code",
      "execution_count": null,
      "metadata": {
        "colab": {
          "base_uri": "https://localhost:8080/",
          "height": 664
        },
        "id": "8JODRDFseZ1y",
        "outputId": "d3dc37d6-d439-4db4-e1c0-f4ce481eb0b1"
      },
      "outputs": [
        {
          "name": "stdout",
          "output_type": "stream",
          "text": [
            "['  60' '  60' '  50' '  50']\n",
            "Test\n",
            "[['19.890000000000001' '46.299999999999997' '19.199999999999999'\n",
            "  '44.626666666666701' '19.789999999999999' '44.933333333333302'\n",
            "  '18.926666666666701' '45.890000000000001' '17.166666666666700'\n",
            "  '55.090000000000003' ' 6.559999999999999609' '83.1566666666666947'\n",
            "  '17.199999999999999' '41.433333333333302' '18.199999999999999'\n",
            "  '48.729999999999997' '17.000000000000000' '45.500000000000000'\n",
            "  ' 6.3666666666666698e+00' '733.70000000000005' ' 92.000000000000000'\n",
            "  ' 6.33333333333333037' '55.3333333333333002' ' 5.0999999999999996e+00'\n",
            "  '28.6426681675948202610' '28.6426681675948202610']\n",
            " ['19.890000000000001' '46.693333333333300' '19.199999999999999'\n",
            "  '44.722499999999997' '19.789999999999999' '44.789999999999999'\n",
            "  '19.000000000000000' '45.992500000000000' '17.166666666666700'\n",
            "  '55.200000000000003' ' 6.833333333333330373' '84.0633333333333042'\n",
            "  '17.199999999999999' '41.560000000000002' '18.199999999999999'\n",
            "  '48.863333333333301' '17.066666666666698' '45.560000000000002'\n",
            "  ' 6.4833333333333298e+00' '733.60000000000002' ' 92.000000000000000'\n",
            "  ' 6.66666666666666963' '59.1666666666666998' ' 5.2000000000000002e+00'\n",
            "  '18.6061949818395078182' '18.6061949818395078182']]\n",
            "['  50' '  60']\n",
            "Mean squared error is:  14.541278065208676\n",
            "(2, 26) (2,)\n"
          ]
        },
        {
          "data": {
            "image/png": "[encoded data removed]",
            "text/plain": [
              "<Figure size 432x288 with 1 Axes>"
            ]
          },
          "metadata": {
            "needs_background": "light"
          },
          "output_type": "display_data"
        }
      ],
      "source": [
        "import matplotlib.pyplot as plt\n",
        "import pandas as pd\n",
        "import numpy as np\n",
        "from sklearn import datasets,linear_model\n",
        "from sklearn.model_selection import train_test_split\n",
        "from sklearn.metrics import  mean_squared_error\n",
        "\n",
        "\n",
        "# importing database\n",
        "myDataset = pd.read_csv(\"https://archive.ics.uci.edu/ml/machine-learning-databases/00374/energydata_complete.csv\",\n",
        "sep= ',', header = None)\n",
        "# print(myDataset)\n",
        "\n",
        "# Separating the target variable\n",
        "X = myDataset.values[1:5, 3:29]\n",
        "Y = myDataset.values[1:5, 1]\n",
        "\n",
        "# Splitting the dataset into train and test\t\n",
        "# testSize = 30% train = 70%\n",
        "X_train, X_test, Y_train, Y_test = train_test_split(\n",
        "X, Y, test_size = 0.3, random_state = 100)\n",
        "\n",
        "print(\"Test\")\n",
        "print(X_test)\n",
        "print(Y_test)\n",
        "\n",
        "model = linear_model.LinearRegression()\n",
        "model.fit(X_train,Y_train)\n",
        "\n",
        "Y_predicted = model.predict(X_test)\n",
        "\n",
        "print(\"Mean squared error is: \", mean_squared_error(Y_test, Y_predicted))\n",
        "\n",
        "plt.scatter(X_test[0], Y_test[0])\n",
        "# plt.plot(X_test[0], Y_predicted[0])\n",
        "plt.show()\n",
        "\n",
        "\n"
      ]
    },
    {
      "cell_type": "code",
      "execution_count": null,
      "metadata": {
        "id": "LC6QOWtU-0wH"
      },
      "outputs": [],
      "source": []
    }
  ],
  "metadata": {
    "colab": {
      "name": "SET_ASSIGN_2",
      "provenance": []
    },
    "kernelspec": {
      "display_name": "Python 3",
      "name": "python3"
    },
    "language_info": {
      "name": "python"
    }
  },
  "nbformat": 4,
  "nbformat_minor": 0
}
