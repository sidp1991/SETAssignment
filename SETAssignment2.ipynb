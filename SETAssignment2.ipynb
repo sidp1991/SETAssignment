{
  "nbformat": 4,
  "nbformat_minor": 0,
  "metadata": {
    "colab": {
      "name": "SETAssignment2.ipynb",
      "provenance": []
    },
    "kernelspec": {
      "name": "python3",
      "display_name": "Python 3"
    },
    "language_info": {
      "name": "python"
    }
  },
  "cells": [
    {
      "cell_type": "code",
      "execution_count": null,
      "metadata": {
        "id": "nf8JtyyGzdDR"
      },
      "outputs": [],
      "source": [
        "import numpy as np\n",
        "import pandas as pd\n",
        "from sklearn.linear_model import LinearRegression\n",
        "import matplotlib.pyplot as plt\n",
        "from sklearn.model_selection import train_test_split"
      ]
    },
    {
      "cell_type": "code",
      "source": [
        "df = pd.read_csv(\"Nutrition__Physical_Activity__and_Obesity_-_Behavioral_Risk_Factor_Surveillance_System.csv\")\n",
        "df.head()"
      ],
      "metadata": {
        "colab": {
          "base_uri": "https://localhost:8080/",
          "height": 704
        },
        "id": "9OHwTfqT0WWh",
        "outputId": "1b61eac6-4ca1-43e7-a962-8e7444c74bff"
      },
      "execution_count": null,
      "outputs": [
        {
          "output_type": "execute_result",
          "data": {
            "text/html": [
              "\n",
              "  <div id=\"df-a250cda7-1968-47d7-9d36-29bd4148e782\">\n",
              "    <div class=\"colab-df-container\">\n",
              "      <div>\n",
              "<style scoped>\n",
              "    .dataframe tbody tr th:only-of-type {\n",
              "        vertical-align: middle;\n",
              "    }\n",
              "\n",
              "    .dataframe tbody tr th {\n",
              "        vertical-align: top;\n",
              "    }\n",
              "\n",
              "    .dataframe thead th {\n",
              "        text-align: right;\n",
              "    }\n",
              "</style>\n",
              "<table border=\"1\" class=\"dataframe\">\n",
              "  <thead>\n",
              "    <tr style=\"text-align: right;\">\n",
              "      <th></th>\n",
              "      <th>YearStart</th>\n",
              "      <th>YearEnd</th>\n",
              "      <th>LocationAbbr</th>\n",
              "      <th>LocationDesc</th>\n",
              "      <th>Datasource</th>\n",
              "      <th>Class</th>\n",
              "      <th>Topic</th>\n",
              "      <th>Question</th>\n",
              "      <th>Data_Value_Unit</th>\n",
              "      <th>Data_Value_Type</th>\n",
              "      <th>Data_Value</th>\n",
              "      <th>Data_Value_Alt</th>\n",
              "      <th>Data_Value_Footnote_Symbol</th>\n",
              "      <th>Data_Value_Footnote</th>\n",
              "      <th>Low_Confidence_Limit</th>\n",
              "      <th>High_Confidence_Limit</th>\n",
              "      <th>Sample_Size</th>\n",
              "      <th>Total</th>\n",
              "      <th>Age(years)</th>\n",
              "      <th>Education</th>\n",
              "      <th>Gender</th>\n",
              "      <th>Income</th>\n",
              "      <th>Race/Ethnicity</th>\n",
              "      <th>GeoLocation</th>\n",
              "      <th>ClassID</th>\n",
              "      <th>TopicID</th>\n",
              "      <th>QuestionID</th>\n",
              "      <th>DataValueTypeID</th>\n",
              "      <th>LocationID</th>\n",
              "      <th>StratificationCategory1</th>\n",
              "      <th>Stratification1</th>\n",
              "      <th>StratificationCategoryId1</th>\n",
              "      <th>StratificationID1</th>\n",
              "    </tr>\n",
              "  </thead>\n",
              "  <tbody>\n",
              "    <tr>\n",
              "      <th>0</th>\n",
              "      <td>2011</td>\n",
              "      <td>2011</td>\n",
              "      <td>AL</td>\n",
              "      <td>Alabama</td>\n",
              "      <td>Behavioral Risk Factor Surveillance System</td>\n",
              "      <td>Obesity / Weight Status</td>\n",
              "      <td>Obesity / Weight Status</td>\n",
              "      <td>Percent of adults aged 18 years and older who ...</td>\n",
              "      <td>NaN</td>\n",
              "      <td>Value</td>\n",
              "      <td>32.0</td>\n",
              "      <td>32.0</td>\n",
              "      <td>NaN</td>\n",
              "      <td>NaN</td>\n",
              "      <td>30.5</td>\n",
              "      <td>33.5</td>\n",
              "      <td>7304.0</td>\n",
              "      <td>Total</td>\n",
              "      <td>NaN</td>\n",
              "      <td>NaN</td>\n",
              "      <td>NaN</td>\n",
              "      <td>NaN</td>\n",
              "      <td>NaN</td>\n",
              "      <td>(32.84057112200048, -86.63186076199969)</td>\n",
              "      <td>OWS</td>\n",
              "      <td>OWS1</td>\n",
              "      <td>Q036</td>\n",
              "      <td>VALUE</td>\n",
              "      <td>1.0</td>\n",
              "      <td>Total</td>\n",
              "      <td>Total</td>\n",
              "      <td>OVR</td>\n",
              "      <td>OVERALL</td>\n",
              "    </tr>\n",
              "    <tr>\n",
              "      <th>1</th>\n",
              "      <td>2011</td>\n",
              "      <td>2011</td>\n",
              "      <td>AL</td>\n",
              "      <td>Alabama</td>\n",
              "      <td>Behavioral Risk Factor Surveillance System</td>\n",
              "      <td>Obesity / Weight Status</td>\n",
              "      <td>Obesity / Weight Status</td>\n",
              "      <td>Percent of adults aged 18 years and older who ...</td>\n",
              "      <td>NaN</td>\n",
              "      <td>Value</td>\n",
              "      <td>32.3</td>\n",
              "      <td>32.3</td>\n",
              "      <td>NaN</td>\n",
              "      <td>NaN</td>\n",
              "      <td>29.9</td>\n",
              "      <td>34.7</td>\n",
              "      <td>2581.0</td>\n",
              "      <td>NaN</td>\n",
              "      <td>NaN</td>\n",
              "      <td>NaN</td>\n",
              "      <td>Male</td>\n",
              "      <td>NaN</td>\n",
              "      <td>NaN</td>\n",
              "      <td>(32.84057112200048, -86.63186076199969)</td>\n",
              "      <td>OWS</td>\n",
              "      <td>OWS1</td>\n",
              "      <td>Q036</td>\n",
              "      <td>VALUE</td>\n",
              "      <td>1.0</td>\n",
              "      <td>Gender</td>\n",
              "      <td>Male</td>\n",
              "      <td>GEN</td>\n",
              "      <td>MALE</td>\n",
              "    </tr>\n",
              "    <tr>\n",
              "      <th>2</th>\n",
              "      <td>2011</td>\n",
              "      <td>2011</td>\n",
              "      <td>AL</td>\n",
              "      <td>Alabama</td>\n",
              "      <td>Behavioral Risk Factor Surveillance System</td>\n",
              "      <td>Obesity / Weight Status</td>\n",
              "      <td>Obesity / Weight Status</td>\n",
              "      <td>Percent of adults aged 18 years and older who ...</td>\n",
              "      <td>NaN</td>\n",
              "      <td>Value</td>\n",
              "      <td>31.8</td>\n",
              "      <td>31.8</td>\n",
              "      <td>NaN</td>\n",
              "      <td>NaN</td>\n",
              "      <td>30.0</td>\n",
              "      <td>33.6</td>\n",
              "      <td>4723.0</td>\n",
              "      <td>NaN</td>\n",
              "      <td>NaN</td>\n",
              "      <td>NaN</td>\n",
              "      <td>Female</td>\n",
              "      <td>NaN</td>\n",
              "      <td>NaN</td>\n",
              "      <td>(32.84057112200048, -86.63186076199969)</td>\n",
              "      <td>OWS</td>\n",
              "      <td>OWS1</td>\n",
              "      <td>Q036</td>\n",
              "      <td>VALUE</td>\n",
              "      <td>1.0</td>\n",
              "      <td>Gender</td>\n",
              "      <td>Female</td>\n",
              "      <td>GEN</td>\n",
              "      <td>FEMALE</td>\n",
              "    </tr>\n",
              "    <tr>\n",
              "      <th>3</th>\n",
              "      <td>2011</td>\n",
              "      <td>2011</td>\n",
              "      <td>AL</td>\n",
              "      <td>Alabama</td>\n",
              "      <td>Behavioral Risk Factor Surveillance System</td>\n",
              "      <td>Obesity / Weight Status</td>\n",
              "      <td>Obesity / Weight Status</td>\n",
              "      <td>Percent of adults aged 18 years and older who ...</td>\n",
              "      <td>NaN</td>\n",
              "      <td>Value</td>\n",
              "      <td>33.6</td>\n",
              "      <td>33.6</td>\n",
              "      <td>NaN</td>\n",
              "      <td>NaN</td>\n",
              "      <td>29.9</td>\n",
              "      <td>37.6</td>\n",
              "      <td>1153.0</td>\n",
              "      <td>NaN</td>\n",
              "      <td>NaN</td>\n",
              "      <td>Less than high school</td>\n",
              "      <td>NaN</td>\n",
              "      <td>NaN</td>\n",
              "      <td>NaN</td>\n",
              "      <td>(32.84057112200048, -86.63186076199969)</td>\n",
              "      <td>OWS</td>\n",
              "      <td>OWS1</td>\n",
              "      <td>Q036</td>\n",
              "      <td>VALUE</td>\n",
              "      <td>1.0</td>\n",
              "      <td>Education</td>\n",
              "      <td>Less than high school</td>\n",
              "      <td>EDU</td>\n",
              "      <td>EDUHS</td>\n",
              "    </tr>\n",
              "    <tr>\n",
              "      <th>4</th>\n",
              "      <td>2011</td>\n",
              "      <td>2011</td>\n",
              "      <td>AL</td>\n",
              "      <td>Alabama</td>\n",
              "      <td>Behavioral Risk Factor Surveillance System</td>\n",
              "      <td>Obesity / Weight Status</td>\n",
              "      <td>Obesity / Weight Status</td>\n",
              "      <td>Percent of adults aged 18 years and older who ...</td>\n",
              "      <td>NaN</td>\n",
              "      <td>Value</td>\n",
              "      <td>32.8</td>\n",
              "      <td>32.8</td>\n",
              "      <td>NaN</td>\n",
              "      <td>NaN</td>\n",
              "      <td>30.2</td>\n",
              "      <td>35.6</td>\n",
              "      <td>2402.0</td>\n",
              "      <td>NaN</td>\n",
              "      <td>NaN</td>\n",
              "      <td>High school graduate</td>\n",
              "      <td>NaN</td>\n",
              "      <td>NaN</td>\n",
              "      <td>NaN</td>\n",
              "      <td>(32.84057112200048, -86.63186076199969)</td>\n",
              "      <td>OWS</td>\n",
              "      <td>OWS1</td>\n",
              "      <td>Q036</td>\n",
              "      <td>VALUE</td>\n",
              "      <td>1.0</td>\n",
              "      <td>Education</td>\n",
              "      <td>High school graduate</td>\n",
              "      <td>EDU</td>\n",
              "      <td>EDUHSGRAD</td>\n",
              "    </tr>\n",
              "  </tbody>\n",
              "</table>\n",
              "</div>\n",
              "      <button class=\"colab-df-convert\" onclick=\"convertToInteractive('df-a250cda7-1968-47d7-9d36-29bd4148e782')\"\n",
              "              title=\"Convert this dataframe to an interactive table.\"\n",
              "              style=\"display:none;\">\n",
              "        \n",
              "  <svg xmlns=\"http://www.w3.org/2000/svg\" height=\"24px\"viewBox=\"0 0 24 24\"\n",
              "       width=\"24px\">\n",
              "    <path d=\"M0 0h24v24H0V0z\" fill=\"none\"/>\n",
              "    <path d=\"M18.56 5.44l.94 2.06.94-2.06 2.06-.94-2.06-.94-.94-2.06-.94 2.06-2.06.94zm-11 1L8.5 8.5l.94-2.06 2.06-.94-2.06-.94L8.5 2.5l-.94 2.06-2.06.94zm10 10l.94 2.06.94-2.06 2.06-.94-2.06-.94-.94-2.06-.94 2.06-2.06.94z\"/><path d=\"M17.41 7.96l-1.37-1.37c-.4-.4-.92-.59-1.43-.59-.52 0-1.04.2-1.43.59L10.3 9.45l-7.72 7.72c-.78.78-.78 2.05 0 2.83L4 21.41c.39.39.9.59 1.41.59.51 0 1.02-.2 1.41-.59l7.78-7.78 2.81-2.81c.8-.78.8-2.07 0-2.86zM5.41 20L4 18.59l7.72-7.72 1.47 1.35L5.41 20z\"/>\n",
              "  </svg>\n",
              "      </button>\n",
              "      \n",
              "  <style>\n",
              "    .colab-df-container {\n",
              "      display:flex;\n",
              "      flex-wrap:wrap;\n",
              "      gap: 12px;\n",
              "    }\n",
              "\n",
              "    .colab-df-convert {\n",
              "      background-color: #E8F0FE;\n",
              "      border: none;\n",
              "      border-radius: 50%;\n",
              "      cursor: pointer;\n",
              "      display: none;\n",
              "      fill: #1967D2;\n",
              "      height: 32px;\n",
              "      padding: 0 0 0 0;\n",
              "      width: 32px;\n",
              "    }\n",
              "\n",
              "    .colab-df-convert:hover {\n",
              "      background-color: #E2EBFA;\n",
              "      box-shadow: 0px 1px 2px rgba(60, 64, 67, 0.3), 0px 1px 3px 1px rgba(60, 64, 67, 0.15);\n",
              "      fill: #174EA6;\n",
              "    }\n",
              "\n",
              "    [theme=dark] .colab-df-convert {\n",
              "      background-color: #3B4455;\n",
              "      fill: #D2E3FC;\n",
              "    }\n",
              "\n",
              "    [theme=dark] .colab-df-convert:hover {\n",
              "      background-color: #434B5C;\n",
              "      box-shadow: 0px 1px 3px 1px rgba(0, 0, 0, 0.15);\n",
              "      filter: drop-shadow(0px 1px 2px rgba(0, 0, 0, 0.3));\n",
              "      fill: #FFFFFF;\n",
              "    }\n",
              "  </style>\n",
              "\n",
              "      <script>\n",
              "        const buttonEl =\n",
              "          document.querySelector('#df-a250cda7-1968-47d7-9d36-29bd4148e782 button.colab-df-convert');\n",
              "        buttonEl.style.display =\n",
              "          google.colab.kernel.accessAllowed ? 'block' : 'none';\n",
              "\n",
              "        async function convertToInteractive(key) {\n",
              "          const element = document.querySelector('#df-a250cda7-1968-47d7-9d36-29bd4148e782');\n",
              "          const dataTable =\n",
              "            await google.colab.kernel.invokeFunction('convertToInteractive',\n",
              "                                                     [key], {});\n",
              "          if (!dataTable) return;\n",
              "\n",
              "          const docLinkHtml = 'Like what you see? Visit the ' +\n",
              "            '<a target=\"_blank\" href=https://colab.research.google.com/notebooks/data_table.ipynb>data table notebook</a>'\n",
              "            + ' to learn more about interactive tables.';\n",
              "          element.innerHTML = '';\n",
              "          dataTable['output_type'] = 'display_data';\n",
              "          await google.colab.output.renderOutput(dataTable, element);\n",
              "          const docLink = document.createElement('div');\n",
              "          docLink.innerHTML = docLinkHtml;\n",
              "          element.appendChild(docLink);\n",
              "        }\n",
              "      </script>\n",
              "    </div>\n",
              "  </div>\n",
              "  "
            ],
            "text/plain": [
              "   YearStart  YearEnd  ... StratificationCategoryId1 StratificationID1\n",
              "0       2011     2011  ...                       OVR           OVERALL\n",
              "1       2011     2011  ...                       GEN              MALE\n",
              "2       2011     2011  ...                       GEN            FEMALE\n",
              "3       2011     2011  ...                       EDU             EDUHS\n",
              "4       2011     2011  ...                       EDU         EDUHSGRAD\n",
              "\n",
              "[5 rows x 33 columns]"
            ]
          },
          "metadata": {},
          "execution_count": 26
        }
      ]
    },
    {
      "cell_type": "code",
      "source": [
        "df.info()"
      ],
      "metadata": {
        "colab": {
          "base_uri": "https://localhost:8080/"
        },
        "id": "T9SENeyK0fk8",
        "outputId": "530ddc12-06da-40fa-99e5-e7f00bb0faaf"
      },
      "execution_count": null,
      "outputs": [
        {
          "output_type": "stream",
          "name": "stdout",
          "text": [
            "<class 'pandas.core.frame.DataFrame'>\n",
            "RangeIndex: 5490 entries, 0 to 5489\n",
            "Data columns (total 33 columns):\n",
            " #   Column                      Non-Null Count  Dtype  \n",
            "---  ------                      --------------  -----  \n",
            " 0   YearStart                   5490 non-null   int64  \n",
            " 1   YearEnd                     5490 non-null   int64  \n",
            " 2   LocationAbbr                5490 non-null   object \n",
            " 3   LocationDesc                5490 non-null   object \n",
            " 4   Datasource                  5490 non-null   object \n",
            " 5   Class                       5490 non-null   object \n",
            " 6   Topic                       5490 non-null   object \n",
            " 7   Question                    5490 non-null   object \n",
            " 8   Data_Value_Unit             0 non-null      float64\n",
            " 9   Data_Value_Type             5489 non-null   object \n",
            " 10  Data_Value                  5048 non-null   float64\n",
            " 11  Data_Value_Alt              5048 non-null   float64\n",
            " 12  Data_Value_Footnote_Symbol  441 non-null    object \n",
            " 13  Data_Value_Footnote         441 non-null    object \n",
            " 14  Low_Confidence_Limit        5048 non-null   float64\n",
            " 15  High_Confidence_Limit       5048 non-null   float64\n",
            " 16  Sample_Size                 5048 non-null   float64\n",
            " 17  Total                       198 non-null    object \n",
            " 18  Age(years)                  1178 non-null   object \n",
            " 19  Education                   784 non-null    object \n",
            " 20  Gender                      398 non-null    object \n",
            " 21  Income                      1368 non-null   object \n",
            " 22  Race/Ethnicity              1563 non-null   object \n",
            " 23  GeoLocation                 5480 non-null   object \n",
            " 24  ClassID                     5489 non-null   object \n",
            " 25  TopicID                     5489 non-null   object \n",
            " 26  QuestionID                  5489 non-null   object \n",
            " 27  DataValueTypeID             5489 non-null   object \n",
            " 28  LocationID                  5489 non-null   float64\n",
            " 29  StratificationCategory1     5489 non-null   object \n",
            " 30  Stratification1             5489 non-null   object \n",
            " 31  StratificationCategoryId1   5489 non-null   object \n",
            " 32  StratificationID1           5489 non-null   object \n",
            "dtypes: float64(7), int64(2), object(24)\n",
            "memory usage: 1.4+ MB\n"
          ]
        }
      ]
    },
    {
      "cell_type": "code",
      "source": [
        "df.describe()"
      ],
      "metadata": {
        "colab": {
          "base_uri": "https://localhost:8080/",
          "height": 300
        },
        "id": "4uVAtAze0i5t",
        "outputId": "b5e31d8a-180d-4e61-d853-f181b4330702"
      },
      "execution_count": null,
      "outputs": [
        {
          "output_type": "execute_result",
          "data": {
            "text/html": [
              "\n",
              "  <div id=\"df-88af3e97-4c5c-4014-aeaa-9e0f31b0bd67\">\n",
              "    <div class=\"colab-df-container\">\n",
              "      <div>\n",
              "<style scoped>\n",
              "    .dataframe tbody tr th:only-of-type {\n",
              "        vertical-align: middle;\n",
              "    }\n",
              "\n",
              "    .dataframe tbody tr th {\n",
              "        vertical-align: top;\n",
              "    }\n",
              "\n",
              "    .dataframe thead th {\n",
              "        text-align: right;\n",
              "    }\n",
              "</style>\n",
              "<table border=\"1\" class=\"dataframe\">\n",
              "  <thead>\n",
              "    <tr style=\"text-align: right;\">\n",
              "      <th></th>\n",
              "      <th>YearStart</th>\n",
              "      <th>YearEnd</th>\n",
              "      <th>Data_Value_Unit</th>\n",
              "      <th>Data_Value</th>\n",
              "      <th>Data_Value_Alt</th>\n",
              "      <th>Low_Confidence_Limit</th>\n",
              "      <th>High_Confidence_Limit</th>\n",
              "      <th>Sample_Size</th>\n",
              "      <th>LocationID</th>\n",
              "    </tr>\n",
              "  </thead>\n",
              "  <tbody>\n",
              "    <tr>\n",
              "      <th>count</th>\n",
              "      <td>5490.000000</td>\n",
              "      <td>5490.000000</td>\n",
              "      <td>0.0</td>\n",
              "      <td>5048.000000</td>\n",
              "      <td>5048.000000</td>\n",
              "      <td>5048.00000</td>\n",
              "      <td>5048.000000</td>\n",
              "      <td>5048.000000</td>\n",
              "      <td>5489.000000</td>\n",
              "    </tr>\n",
              "    <tr>\n",
              "      <th>mean</th>\n",
              "      <td>2012.230055</td>\n",
              "      <td>2012.230055</td>\n",
              "      <td>NaN</td>\n",
              "      <td>31.086866</td>\n",
              "      <td>31.086866</td>\n",
              "      <td>26.49164</td>\n",
              "      <td>36.311113</td>\n",
              "      <td>2009.534271</td>\n",
              "      <td>5.814903</td>\n",
              "    </tr>\n",
              "    <tr>\n",
              "      <th>std</th>\n",
              "      <td>1.094583</td>\n",
              "      <td>1.094583</td>\n",
              "      <td>NaN</td>\n",
              "      <td>10.559682</td>\n",
              "      <td>10.559682</td>\n",
              "      <td>10.25472</td>\n",
              "      <td>11.582135</td>\n",
              "      <td>9466.816115</td>\n",
              "      <td>3.773033</td>\n",
              "    </tr>\n",
              "    <tr>\n",
              "      <th>min</th>\n",
              "      <td>2011.000000</td>\n",
              "      <td>2011.000000</td>\n",
              "      <td>NaN</td>\n",
              "      <td>0.900000</td>\n",
              "      <td>0.900000</td>\n",
              "      <td>0.30000</td>\n",
              "      <td>3.000000</td>\n",
              "      <td>50.000000</td>\n",
              "      <td>1.000000</td>\n",
              "    </tr>\n",
              "    <tr>\n",
              "      <th>25%</th>\n",
              "      <td>2011.000000</td>\n",
              "      <td>2011.000000</td>\n",
              "      <td>NaN</td>\n",
              "      <td>23.700000</td>\n",
              "      <td>23.700000</td>\n",
              "      <td>19.40000</td>\n",
              "      <td>28.200000</td>\n",
              "      <td>494.000000</td>\n",
              "      <td>4.000000</td>\n",
              "    </tr>\n",
              "    <tr>\n",
              "      <th>50%</th>\n",
              "      <td>2012.000000</td>\n",
              "      <td>2012.000000</td>\n",
              "      <td>NaN</td>\n",
              "      <td>30.400000</td>\n",
              "      <td>30.400000</td>\n",
              "      <td>25.70000</td>\n",
              "      <td>36.000000</td>\n",
              "      <td>994.000000</td>\n",
              "      <td>6.000000</td>\n",
              "    </tr>\n",
              "    <tr>\n",
              "      <th>75%</th>\n",
              "      <td>2013.000000</td>\n",
              "      <td>2013.000000</td>\n",
              "      <td>NaN</td>\n",
              "      <td>37.200000</td>\n",
              "      <td>37.200000</td>\n",
              "      <td>32.82500</td>\n",
              "      <td>42.800000</td>\n",
              "      <td>1995.000000</td>\n",
              "      <td>9.000000</td>\n",
              "    </tr>\n",
              "    <tr>\n",
              "      <th>max</th>\n",
              "      <td>2015.000000</td>\n",
              "      <td>2015.000000</td>\n",
              "      <td>NaN</td>\n",
              "      <td>72.300000</td>\n",
              "      <td>72.300000</td>\n",
              "      <td>67.90000</td>\n",
              "      <td>83.200000</td>\n",
              "      <td>398316.000000</td>\n",
              "      <td>59.000000</td>\n",
              "    </tr>\n",
              "  </tbody>\n",
              "</table>\n",
              "</div>\n",
              "      <button class=\"colab-df-convert\" onclick=\"convertToInteractive('df-88af3e97-4c5c-4014-aeaa-9e0f31b0bd67')\"\n",
              "              title=\"Convert this dataframe to an interactive table.\"\n",
              "              style=\"display:none;\">\n",
              "        \n",
              "  <svg xmlns=\"http://www.w3.org/2000/svg\" height=\"24px\"viewBox=\"0 0 24 24\"\n",
              "       width=\"24px\">\n",
              "    <path d=\"M0 0h24v24H0V0z\" fill=\"none\"/>\n",
              "    <path d=\"M18.56 5.44l.94 2.06.94-2.06 2.06-.94-2.06-.94-.94-2.06-.94 2.06-2.06.94zm-11 1L8.5 8.5l.94-2.06 2.06-.94-2.06-.94L8.5 2.5l-.94 2.06-2.06.94zm10 10l.94 2.06.94-2.06 2.06-.94-2.06-.94-.94-2.06-.94 2.06-2.06.94z\"/><path d=\"M17.41 7.96l-1.37-1.37c-.4-.4-.92-.59-1.43-.59-.52 0-1.04.2-1.43.59L10.3 9.45l-7.72 7.72c-.78.78-.78 2.05 0 2.83L4 21.41c.39.39.9.59 1.41.59.51 0 1.02-.2 1.41-.59l7.78-7.78 2.81-2.81c.8-.78.8-2.07 0-2.86zM5.41 20L4 18.59l7.72-7.72 1.47 1.35L5.41 20z\"/>\n",
              "  </svg>\n",
              "      </button>\n",
              "      \n",
              "  <style>\n",
              "    .colab-df-container {\n",
              "      display:flex;\n",
              "      flex-wrap:wrap;\n",
              "      gap: 12px;\n",
              "    }\n",
              "\n",
              "    .colab-df-convert {\n",
              "      background-color: #E8F0FE;\n",
              "      border: none;\n",
              "      border-radius: 50%;\n",
              "      cursor: pointer;\n",
              "      display: none;\n",
              "      fill: #1967D2;\n",
              "      height: 32px;\n",
              "      padding: 0 0 0 0;\n",
              "      width: 32px;\n",
              "    }\n",
              "\n",
              "    .colab-df-convert:hover {\n",
              "      background-color: #E2EBFA;\n",
              "      box-shadow: 0px 1px 2px rgba(60, 64, 67, 0.3), 0px 1px 3px 1px rgba(60, 64, 67, 0.15);\n",
              "      fill: #174EA6;\n",
              "    }\n",
              "\n",
              "    [theme=dark] .colab-df-convert {\n",
              "      background-color: #3B4455;\n",
              "      fill: #D2E3FC;\n",
              "    }\n",
              "\n",
              "    [theme=dark] .colab-df-convert:hover {\n",
              "      background-color: #434B5C;\n",
              "      box-shadow: 0px 1px 3px 1px rgba(0, 0, 0, 0.15);\n",
              "      filter: drop-shadow(0px 1px 2px rgba(0, 0, 0, 0.3));\n",
              "      fill: #FFFFFF;\n",
              "    }\n",
              "  </style>\n",
              "\n",
              "      <script>\n",
              "        const buttonEl =\n",
              "          document.querySelector('#df-88af3e97-4c5c-4014-aeaa-9e0f31b0bd67 button.colab-df-convert');\n",
              "        buttonEl.style.display =\n",
              "          google.colab.kernel.accessAllowed ? 'block' : 'none';\n",
              "\n",
              "        async function convertToInteractive(key) {\n",
              "          const element = document.querySelector('#df-88af3e97-4c5c-4014-aeaa-9e0f31b0bd67');\n",
              "          const dataTable =\n",
              "            await google.colab.kernel.invokeFunction('convertToInteractive',\n",
              "                                                     [key], {});\n",
              "          if (!dataTable) return;\n",
              "\n",
              "          const docLinkHtml = 'Like what you see? Visit the ' +\n",
              "            '<a target=\"_blank\" href=https://colab.research.google.com/notebooks/data_table.ipynb>data table notebook</a>'\n",
              "            + ' to learn more about interactive tables.';\n",
              "          element.innerHTML = '';\n",
              "          dataTable['output_type'] = 'display_data';\n",
              "          await google.colab.output.renderOutput(dataTable, element);\n",
              "          const docLink = document.createElement('div');\n",
              "          docLink.innerHTML = docLinkHtml;\n",
              "          element.appendChild(docLink);\n",
              "        }\n",
              "      </script>\n",
              "    </div>\n",
              "  </div>\n",
              "  "
            ],
            "text/plain": [
              "         YearStart      YearEnd  ...    Sample_Size   LocationID\n",
              "count  5490.000000  5490.000000  ...    5048.000000  5489.000000\n",
              "mean   2012.230055  2012.230055  ...    2009.534271     5.814903\n",
              "std       1.094583     1.094583  ...    9466.816115     3.773033\n",
              "min    2011.000000  2011.000000  ...      50.000000     1.000000\n",
              "25%    2011.000000  2011.000000  ...     494.000000     4.000000\n",
              "50%    2012.000000  2012.000000  ...     994.000000     6.000000\n",
              "75%    2013.000000  2013.000000  ...    1995.000000     9.000000\n",
              "max    2015.000000  2015.000000  ...  398316.000000    59.000000\n",
              "\n",
              "[8 rows x 9 columns]"
            ]
          },
          "metadata": {},
          "execution_count": 28
        }
      ]
    },
    {
      "cell_type": "code",
      "source": [
        "wrangled = df[df['StratificationID1'] == 'OVERALL'][['LocationDesc','Data_Value', 'Question', \"YearStart\" ]]\n",
        "question = wrangled[wrangled['Question'] == 'Percent of adults who engage in no leisure-time physical activity'][['LocationDesc','Data_Value', 'Question', \"YearStart\" ]]\n",
        "x_all = question[question['YearStart'] == 2014][['LocationDesc','Data_Value' ]]\n",
        "x = question[question['YearStart'] == 2014][['Data_Value' ]].values\n",
        "x"
      ],
      "metadata": {
        "colab": {
          "base_uri": "https://localhost:8080/"
        },
        "id": "nfvngUQ_0j3A",
        "outputId": "1dd16745-028c-4eaa-b7be-f9250b989bde"
      },
      "execution_count": null,
      "outputs": [
        {
          "output_type": "execute_result",
          "data": {
            "text/plain": [
              "array([[27.6],\n",
              "       [19.2],\n",
              "       [21.2],\n",
              "       [30.7],\n",
              "       [21.7],\n",
              "       [16.4],\n",
              "       [20.6],\n",
              "       [24.9]])"
            ]
          },
          "metadata": {},
          "execution_count": 29
        }
      ]
    },
    {
      "cell_type": "code",
      "source": [
        "wrangled = df[df['StratificationID1'] == 'OVERALL'][['LocationDesc','Data_Value', 'Question', \"YearStart\" ]]\n",
        "year = wrangled[wrangled['Question'] == 'Percent of adults aged 18 years and older who have obesity'][['LocationDesc','Data_Value', 'Question', \"YearStart\" ]]\n",
        "y_all = year[year['YearStart'] == 2014][['LocationDesc','Data_Value' ]]\n",
        "y = year[year['YearStart'] == 2014][['Data_Value' ]].values\n",
        "y"
      ],
      "metadata": {
        "colab": {
          "base_uri": "https://localhost:8080/"
        },
        "id": "ZSaSh-4A0mhY",
        "outputId": "e691505b-f468-48a5-90fc-fcb08b7ac38e"
      },
      "execution_count": null,
      "outputs": [
        {
          "output_type": "execute_result",
          "data": {
            "text/plain": [
              "array([[33.5],\n",
              "       [29.7],\n",
              "       [28.9],\n",
              "       [35.9],\n",
              "       [24.7],\n",
              "       [21.3],\n",
              "       [26.3],\n",
              "       [30.7]])"
            ]
          },
          "metadata": {},
          "execution_count": 30
        }
      ]
    },
    {
      "cell_type": "code",
      "source": [
        "x = x.reshape(-1, 1)\n",
        "x"
      ],
      "metadata": {
        "colab": {
          "base_uri": "https://localhost:8080/"
        },
        "id": "3X4tOzIZ0qfB",
        "outputId": "f609deec-1dcc-4fb1-9f1f-3fa641da9693"
      },
      "execution_count": null,
      "outputs": [
        {
          "output_type": "execute_result",
          "data": {
            "text/plain": [
              "array([[27.6],\n",
              "       [19.2],\n",
              "       [21.2],\n",
              "       [30.7],\n",
              "       [21.7],\n",
              "       [16.4],\n",
              "       [20.6],\n",
              "       [24.9]])"
            ]
          },
          "metadata": {},
          "execution_count": 31
        }
      ]
    },
    {
      "cell_type": "code",
      "source": [
        "y = y.reshape(-1, 1)\n",
        "y"
      ],
      "metadata": {
        "colab": {
          "base_uri": "https://localhost:8080/"
        },
        "id": "odnC_Qad0s4f",
        "outputId": "2a690e65-9ec0-4363-c68f-08c415934a77"
      },
      "execution_count": null,
      "outputs": [
        {
          "output_type": "execute_result",
          "data": {
            "text/plain": [
              "array([[33.5],\n",
              "       [29.7],\n",
              "       [28.9],\n",
              "       [35.9],\n",
              "       [24.7],\n",
              "       [21.3],\n",
              "       [26.3],\n",
              "       [30.7]])"
            ]
          },
          "metadata": {},
          "execution_count": 32
        }
      ]
    },
    {
      "cell_type": "code",
      "source": [
        "x_train, x_test, y_train, y_test = train_test_split(x, y, train_size=.8, test_size=.2, random_state=100)"
      ],
      "metadata": {
        "id": "FcsS4k1m0vSK"
      },
      "execution_count": null,
      "outputs": []
    },
    {
      "cell_type": "code",
      "source": [
        "print(f'X Train Data shape{x_train.shape}')\n",
        "print(f'y Train Data shape{y_train.shape}')\n",
        "print(f'X Test Data shape{x_test.shape}')\n",
        "print(f'y Test Data shape{y_test.shape}')"
      ],
      "metadata": {
        "colab": {
          "base_uri": "https://localhost:8080/"
        },
        "id": "-6qRaxN00xx5",
        "outputId": "f5e9fe50-2599-41d0-8323-5ee03c40af41"
      },
      "execution_count": null,
      "outputs": [
        {
          "output_type": "stream",
          "name": "stdout",
          "text": [
            "X Train Data shape(6, 1)\n",
            "y Train Data shape(6, 1)\n",
            "X Test Data shape(2, 1)\n",
            "y Test Data shape(2, 1)\n"
          ]
        }
      ]
    },
    {
      "cell_type": "code",
      "source": [
        "plt.scatter(x_train, y_train, color='orange')\n",
        "plt.xlabel('% Adults with reporting no leisure Physical Activity')\n",
        "plt.ylabel('% of Adults who have Obesity')\n",
        "plt.title('Physical Data')\n",
        "plt.show()"
      ],
      "metadata": {
        "colab": {
          "base_uri": "https://localhost:8080/",
          "height": 295
        },
        "id": "PQfW9bb500zu",
        "outputId": "e370fad2-0b49-486f-e2e1-de4d9876efa9"
      },
      "execution_count": null,
      "outputs": [
        {
          "output_type": "display_data",
          "data": {
            "image/png": "[encoded data removed]",
            "text/plain": [
              "<Figure size 432x288 with 1 Axes>"
            ]
          },
          "metadata": {
            "needs_background": "light"
          }
        }
      ]
    },
    {
      "cell_type": "code",
      "source": [
        "lm = LinearRegression()\n",
        "lm.fit(x_train, y_train)\n",
        "y_predict = lm.predict(x_test)"
      ],
      "metadata": {
        "id": "TFQqD_Sf029n"
      },
      "execution_count": null,
      "outputs": []
    },
    {
      "cell_type": "code",
      "source": [
        "print(f'Train Accuracy {round(lm.score(x_train, y_train)* 100,2)}%')\n",
        "print(f'Test Accuracy {round(lm.score(x_test, y_test)* 100,2)}%')"
      ],
      "metadata": {
        "id": "Eh3xosm4056N",
        "outputId": "9c685099-321c-4a29-9767-41450044cacd",
        "colab": {
          "base_uri": "https://localhost:8080/"
        }
      },
      "execution_count": null,
      "outputs": [
        {
          "output_type": "stream",
          "name": "stdout",
          "text": [
            "Train Accuracy 96.51%\n",
            "Test Accuracy -134.64%\n"
          ]
        }
      ]
    },
    {
      "cell_type": "code",
      "source": [
        "plt.scatter(x_train, y_train, color='orange')\n",
        "plt.xlabel('% Adults with reporting no leisure Physical Activity')\n",
        "plt.ylabel('% of Adults who have Obesity')\n",
        "plt.title('Physical Data')\n",
        "plt.show()"
      ],
      "metadata": {
        "id": "jBbc59fY08WU",
        "outputId": "eebc0794-8e18-47ea-c031-c60739d1bead",
        "colab": {
          "base_uri": "https://localhost:8080/",
          "height": 295
        }
      },
      "execution_count": null,
      "outputs": [
        {
          "output_type": "display_data",
          "data": {
            "image/png": "[encoded data removed]",
            "text/plain": [
              "<Figure size 432x288 with 1 Axes>"
            ]
          },
          "metadata": {
            "needs_background": "light"
          }
        }
      ]
    },
    {
      "cell_type": "code",
      "source": [
        ""
      ],
      "metadata": {
        "id": "1B5LoqKA0-d9"
      },
      "execution_count": null,
      "outputs": []
    }
  ]
}