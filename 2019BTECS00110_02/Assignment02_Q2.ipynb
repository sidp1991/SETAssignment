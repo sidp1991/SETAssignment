{
  "nbformat": 4,
  "nbformat_minor": 0,
  "metadata": {
    "colab": {
      "name": "Assignment02_Q2.ipynb",
      "provenance": [],
      "collapsed_sections": []
    },
    "kernelspec": {
      "name": "python3",
      "display_name": "Python 3"
    },
    "language_info": {
      "name": "python"
    }
  },
  "cells": [
    {
      "cell_type": "code",
      "execution_count": 13,
      "metadata": {
        "id": "Mnx4aoF-kmF3"
      },
      "outputs": [],
      "source": [
        "%matplotlib inline\n",
        "import matplotlib.pyplot as plt\n",
        "import seaborn as sns; sns.set()\n",
        "import numpy as np\n",
        "import pandas as pd"
      ]
    },
    {
      "cell_type": "code",
      "source": [
        "dataSet = pd.read_csv('https://archive.ics.uci.edu/ml/machine-learning-databases/cpu-performance/machine.data')\n",
        "dataSet.head()\n"
      ],
      "metadata": {
        "colab": {
          "base_uri": "https://localhost:8080/",
          "height": 206
        },
        "id": "gSjUwm8Ck3LV",
        "outputId": "f2061d8b-6567-4ee6-e185-30a1d27227d5"
      },
      "execution_count": 22,
      "outputs": [
        {
          "output_type": "execute_result",
          "data": {
            "text/html": [
              "\n",
              "  <div id=\"df-f8f05e1d-abfb-481e-9791-6819a326983d\">\n",
              "    <div class=\"colab-df-container\">\n",
              "      <div>\n",
              "<style scoped>\n",
              "    .dataframe tbody tr th:only-of-type {\n",
              "        vertical-align: middle;\n",
              "    }\n",
              "\n",
              "    .dataframe tbody tr th {\n",
              "        vertical-align: top;\n",
              "    }\n",
              "\n",
              "    .dataframe thead th {\n",
              "        text-align: right;\n",
              "    }\n",
              "</style>\n",
              "<table border=\"1\" class=\"dataframe\">\n",
              "  <thead>\n",
              "    <tr style=\"text-align: right;\">\n",
              "      <th></th>\n",
              "      <th>adviser</th>\n",
              "      <th>32/60</th>\n",
              "      <th>125</th>\n",
              "      <th>256</th>\n",
              "      <th>6000</th>\n",
              "      <th>256.1</th>\n",
              "      <th>16</th>\n",
              "      <th>128</th>\n",
              "      <th>198</th>\n",
              "      <th>199</th>\n",
              "    </tr>\n",
              "  </thead>\n",
              "  <tbody>\n",
              "    <tr>\n",
              "      <th>0</th>\n",
              "      <td>amdahl</td>\n",
              "      <td>470v/7</td>\n",
              "      <td>29</td>\n",
              "      <td>8000</td>\n",
              "      <td>32000</td>\n",
              "      <td>32</td>\n",
              "      <td>8</td>\n",
              "      <td>32</td>\n",
              "      <td>269</td>\n",
              "      <td>253</td>\n",
              "    </tr>\n",
              "    <tr>\n",
              "      <th>1</th>\n",
              "      <td>amdahl</td>\n",
              "      <td>470v/7a</td>\n",
              "      <td>29</td>\n",
              "      <td>8000</td>\n",
              "      <td>32000</td>\n",
              "      <td>32</td>\n",
              "      <td>8</td>\n",
              "      <td>32</td>\n",
              "      <td>220</td>\n",
              "      <td>253</td>\n",
              "    </tr>\n",
              "    <tr>\n",
              "      <th>2</th>\n",
              "      <td>amdahl</td>\n",
              "      <td>470v/7b</td>\n",
              "      <td>29</td>\n",
              "      <td>8000</td>\n",
              "      <td>32000</td>\n",
              "      <td>32</td>\n",
              "      <td>8</td>\n",
              "      <td>32</td>\n",
              "      <td>172</td>\n",
              "      <td>253</td>\n",
              "    </tr>\n",
              "    <tr>\n",
              "      <th>3</th>\n",
              "      <td>amdahl</td>\n",
              "      <td>470v/7c</td>\n",
              "      <td>29</td>\n",
              "      <td>8000</td>\n",
              "      <td>16000</td>\n",
              "      <td>32</td>\n",
              "      <td>8</td>\n",
              "      <td>16</td>\n",
              "      <td>132</td>\n",
              "      <td>132</td>\n",
              "    </tr>\n",
              "    <tr>\n",
              "      <th>4</th>\n",
              "      <td>amdahl</td>\n",
              "      <td>470v/b</td>\n",
              "      <td>26</td>\n",
              "      <td>8000</td>\n",
              "      <td>32000</td>\n",
              "      <td>64</td>\n",
              "      <td>8</td>\n",
              "      <td>32</td>\n",
              "      <td>318</td>\n",
              "      <td>290</td>\n",
              "    </tr>\n",
              "  </tbody>\n",
              "</table>\n",
              "</div>\n",
              "      <button class=\"colab-df-convert\" onclick=\"convertToInteractive('df-f8f05e1d-abfb-481e-9791-6819a326983d')\"\n",
              "              title=\"Convert this dataframe to an interactive table.\"\n",
              "              style=\"display:none;\">\n",
              "        \n",
              "  <svg xmlns=\"http://www.w3.org/2000/svg\" height=\"24px\"viewBox=\"0 0 24 24\"\n",
              "       width=\"24px\">\n",
              "    <path d=\"M0 0h24v24H0V0z\" fill=\"none\"/>\n",
              "    <path d=\"M18.56 5.44l.94 2.06.94-2.06 2.06-.94-2.06-.94-.94-2.06-.94 2.06-2.06.94zm-11 1L8.5 8.5l.94-2.06 2.06-.94-2.06-.94L8.5 2.5l-.94 2.06-2.06.94zm10 10l.94 2.06.94-2.06 2.06-.94-2.06-.94-.94-2.06-.94 2.06-2.06.94z\"/><path d=\"M17.41 7.96l-1.37-1.37c-.4-.4-.92-.59-1.43-.59-.52 0-1.04.2-1.43.59L10.3 9.45l-7.72 7.72c-.78.78-.78 2.05 0 2.83L4 21.41c.39.39.9.59 1.41.59.51 0 1.02-.2 1.41-.59l7.78-7.78 2.81-2.81c.8-.78.8-2.07 0-2.86zM5.41 20L4 18.59l7.72-7.72 1.47 1.35L5.41 20z\"/>\n",
              "  </svg>\n",
              "      </button>\n",
              "      \n",
              "  <style>\n",
              "    .colab-df-container {\n",
              "      display:flex;\n",
              "      flex-wrap:wrap;\n",
              "      gap: 12px;\n",
              "    }\n",
              "\n",
              "    .colab-df-convert {\n",
              "      background-color: #E8F0FE;\n",
              "      border: none;\n",
              "      border-radius: 50%;\n",
              "      cursor: pointer;\n",
              "      display: none;\n",
              "      fill: #1967D2;\n",
              "      height: 32px;\n",
              "      padding: 0 0 0 0;\n",
              "      width: 32px;\n",
              "    }\n",
              "\n",
              "    .colab-df-convert:hover {\n",
              "      background-color: #E2EBFA;\n",
              "      box-shadow: 0px 1px 2px rgba(60, 64, 67, 0.3), 0px 1px 3px 1px rgba(60, 64, 67, 0.15);\n",
              "      fill: #174EA6;\n",
              "    }\n",
              "\n",
              "    [theme=dark] .colab-df-convert {\n",
              "      background-color: #3B4455;\n",
              "      fill: #D2E3FC;\n",
              "    }\n",
              "\n",
              "    [theme=dark] .colab-df-convert:hover {\n",
              "      background-color: #434B5C;\n",
              "      box-shadow: 0px 1px 3px 1px rgba(0, 0, 0, 0.15);\n",
              "      filter: drop-shadow(0px 1px 2px rgba(0, 0, 0, 0.3));\n",
              "      fill: #FFFFFF;\n",
              "    }\n",
              "  </style>\n",
              "\n",
              "      <script>\n",
              "        const buttonEl =\n",
              "          document.querySelector('#df-f8f05e1d-abfb-481e-9791-6819a326983d button.colab-df-convert');\n",
              "        buttonEl.style.display =\n",
              "          google.colab.kernel.accessAllowed ? 'block' : 'none';\n",
              "\n",
              "        async function convertToInteractive(key) {\n",
              "          const element = document.querySelector('#df-f8f05e1d-abfb-481e-9791-6819a326983d');\n",
              "          const dataTable =\n",
              "            await google.colab.kernel.invokeFunction('convertToInteractive',\n",
              "                                                     [key], {});\n",
              "          if (!dataTable) return;\n",
              "\n",
              "          const docLinkHtml = 'Like what you see? Visit the ' +\n",
              "            '<a target=\"_blank\" href=https://colab.research.google.com/notebooks/data_table.ipynb>data table notebook</a>'\n",
              "            + ' to learn more about interactive tables.';\n",
              "          element.innerHTML = '';\n",
              "          dataTable['output_type'] = 'display_data';\n",
              "          await google.colab.output.renderOutput(dataTable, element);\n",
              "          const docLink = document.createElement('div');\n",
              "          docLink.innerHTML = docLinkHtml;\n",
              "          element.appendChild(docLink);\n",
              "        }\n",
              "      </script>\n",
              "    </div>\n",
              "  </div>\n",
              "  "
            ],
            "text/plain": [
              "  adviser    32/60  125   256   6000  256.1  16  128  198  199\n",
              "0  amdahl   470v/7   29  8000  32000     32   8   32  269  253\n",
              "1  amdahl  470v/7a   29  8000  32000     32   8   32  220  253\n",
              "2  amdahl  470v/7b   29  8000  32000     32   8   32  172  253\n",
              "3  amdahl  470v/7c   29  8000  16000     32   8   16  132  132\n",
              "4  amdahl   470v/b   26  8000  32000     64   8   32  318  290"
            ]
          },
          "metadata": {},
          "execution_count": 22
        }
      ]
    },
    {
      "cell_type": "code",
      "source": [
        "x = np.array(dataSet['198'])\n",
        "print(x)"
      ],
      "metadata": {
        "colab": {
          "base_uri": "https://localhost:8080/"
        },
        "id": "rXHmoBXinW_a",
        "outputId": "bcaaae58-3cd4-4986-a6f5-98e4a168889d"
      },
      "execution_count": 25,
      "outputs": [
        {
          "output_type": "execute_result",
          "data": {
            "text/plain": [
              "array([ 269,  220,  172,  132,  318,  367,  489,  636, 1144,   38,   40,\n",
              "         92,  138,   10,   35,   19,   28,   31,  120,   30,   33,   61,\n",
              "         76,   23,   69,   33,   27,   77,   27,  274,  368,   32,   63,\n",
              "        106,  208,   20,   29,   71,   26,   36,   40,   52,   60,   72,\n",
              "         72,   18,   20,   40,   62,   24,   24,  138,   36,   26,   60,\n",
              "         71,   12,   14,   20,   16,   22,   36,  144,  144,  259,   17,\n",
              "         26,   32,   32,   62,   64,   22,   36,   44,   50,   45,   53,\n",
              "         36,   84,   16,   38,   38,   16,   22,   29,   40,   35,  134,\n",
              "         66,  141,  189,   22,  132,  237,  465,  465,  277,  185,    6,\n",
              "         24,   45,    7,   13,   16,   32,   32,   11,   11,   18,   22,\n",
              "         37,   40,   34,   50,   76,   66,   24,   49,   66,  100,  133,\n",
              "         12,   18,   20,   27,   45,   56,   70,   80,  136,   16,   26,\n",
              "         32,   45,   54,   65,   30,   50,   40,   62,   60,   50,   66,\n",
              "         86,   74,   93,  111,  143,  105,  214,  277,  370,  510,  214,\n",
              "        326,  510,    8,   12,   17,   21,   24,   34,   42,   46,   51,\n",
              "        116,  100,  140,  212,   25,   30,   41,   25,   50,   50,   30,\n",
              "         32,   38,   60,  109,    6,   11,   22,   33,   58,  130,   75,\n",
              "        113,  188,  173,  248,  405,   70,  114,  208,  307,  397,  915,\n",
              "       1150,   12,   14,   18,   21,   42,   46,   52,   67,   45])"
            ]
          },
          "metadata": {},
          "execution_count": 25
        }
      ]
    },
    {
      "cell_type": "code",
      "source": [
        "y = np.array(dataSet['199'])\n",
        "print(y)"
      ],
      "metadata": {
        "colab": {
          "base_uri": "https://localhost:8080/"
        },
        "id": "yok2-2zkr_jo",
        "outputId": "b666a643-0433-4884-909c-6f93bd42640d"
      },
      "execution_count": 27,
      "outputs": [
        {
          "output_type": "stream",
          "name": "stdout",
          "text": [
            "[ 253  253  253  132  290  381  381  749 1238   23   24   70  117   15\n",
            "   64   23   29   22  124   35   39   40   45   28   21   28   22   28\n",
            "   27  102  102   74   74  138  136   23   29   44   30   41   74   74\n",
            "   74   54   41   18   28   36   38   34   19   72   36   30   56   42\n",
            "   34   34   34   34   34   19   75  113  157   18   20   28   33   47\n",
            "   54   20   23   25   52   27   50   18   53   23   30   73   20   25\n",
            "   28   29   32  175   57  181  181   32   82  171  361  350  220  113\n",
            "   15   21   35   18   20   20   28   45   18   17   26   28   28   31\n",
            "   31   42   76   76   26   59   65  101  116   18   20   20   30   44\n",
            "   44   82   82  128   37   46   46   80   88   88   33   46   29   53\n",
            "   53   41   86   95  107  117  119  120   48  126  266  270  426  151\n",
            "  267  603   19   21   26   35   41   47   62   78   80   80  142  281\n",
            "  190   21   25   67   24   24   64   25   20   29   43   53   19   22\n",
            "   31   41   47   99   67   81  149  183  275  382   56  182  227  341\n",
            "  360  919  978   24   24   24   24   37   50   41   47   25]\n"
          ]
        }
      ]
    },
    {
      "cell_type": "code",
      "source": [
        "plt.scatter(x, y);"
      ],
      "metadata": {
        "colab": {
          "base_uri": "https://localhost:8080/",
          "height": 268
        },
        "id": "hCBADquIsPLE",
        "outputId": "89b12c0b-bedf-4363-9b59-3258c17dced2"
      },
      "execution_count": 28,
      "outputs": [
        {
          "output_type": "display_data",
          "data": {
            "image/png": "[encoded data removed]",
            "text/plain": [
              "<Figure size 432x288 with 1 Axes>"
            ]
          },
          "metadata": {}
        }
      ]
    },
    {
      "cell_type": "code",
      "source": [
        "from sklearn.linear_model import LinearRegression\n",
        "model = LinearRegression(fit_intercept=True)\n",
        "model.fit(x[:, np.newaxis], y)"
      ],
      "metadata": {
        "colab": {
          "base_uri": "https://localhost:8080/"
        },
        "id": "ikfoZuTXsXzn",
        "outputId": "1dbed67e-cde1-4dcc-b89e-35f877faff9c"
      },
      "execution_count": 30,
      "outputs": [
        {
          "output_type": "execute_result",
          "data": {
            "text/plain": [
              "LinearRegression()"
            ]
          },
          "metadata": {},
          "execution_count": 30
        }
      ]
    },
    {
      "cell_type": "code",
      "source": [
        "xfit = np.linspace(0, 1200)\n",
        "yfit = model.predict(xfit[:, np.newaxis])"
      ],
      "metadata": {
        "id": "xcbAs8P5se3p"
      },
      "execution_count": 31,
      "outputs": []
    },
    {
      "cell_type": "code",
      "source": [
        "plt.scatter(x, y)\n",
        "plt.plot(xfit, yfit);"
      ],
      "metadata": {
        "colab": {
          "base_uri": "https://localhost:8080/",
          "height": 268
        },
        "id": "a8pCekyAs4ew",
        "outputId": "29b6a255-8c65-460c-a857-f1d5c54f2239"
      },
      "execution_count": 32,
      "outputs": [
        {
          "output_type": "display_data",
          "data": {
            "image/png": "[encoded data removed]",
            "text/plain": [
              "<Figure size 432x288 with 1 Axes>"
            ]
          },
          "metadata": {}
        }
      ]
    },
    {
      "cell_type": "code",
      "source": [
        "print(\"Model slope:    \", model.coef_[0])\n",
        "print(\"Model intercept:\", model.intercept_)"
      ],
      "metadata": {
        "colab": {
          "base_uri": "https://localhost:8080/"
        },
        "id": "uE5LoFGPs91n",
        "outputId": "5ec156c0-75af-45c1-e34d-3c57d4a9c6ac"
      },
      "execution_count": 33,
      "outputs": [
        {
          "output_type": "stream",
          "name": "stdout",
          "text": [
            "Model slope:     0.9297359226144815\n",
            "Model intercept: 1.0633039469374381\n"
          ]
        }
      ]
    }
  ]
}